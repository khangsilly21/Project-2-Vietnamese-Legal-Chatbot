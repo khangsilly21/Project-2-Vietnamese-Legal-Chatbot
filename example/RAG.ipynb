{
 "cells": [
  {
   "cell_type": "markdown",
   "id": "07db7049",
   "metadata": {},
   "source": [
    "# Project II: Vietnamese Legal Chatbot with Retrieval Augmented Generation(RAG)"
   ]
  },
  {
   "cell_type": "markdown",
   "id": "4af3383e",
   "metadata": {},
   "source": [
    "Requirement\n"
   ]
  },
  {
   "cell_type": "code",
   "execution_count": 24,
   "id": "e1f9cc7b",
   "metadata": {},
   "outputs": [],
   "source": [
    "#%pip install llama_index datasets llama-index-llms-google-genai qdrant_client llama-index-vector-stores-qdrant uuid "
   ]
  },
  {
   "cell_type": "code",
   "execution_count": 25,
   "id": "d5e8ba8e",
   "metadata": {},
   "outputs": [
    {
     "name": "stdout",
     "output_type": "stream",
     "text": [
      "Requirement already satisfied: llama-index-llms-huggingface in c:\\users\\khang\\anaconda3\\envs\\rag\\lib\\site-packages (0.5.0)Note: you may need to restart the kernel to use updated packages.\n",
      "\n",
      "Requirement already satisfied: llama-index-core<0.13.0,>=0.12.0 in c:\\users\\khang\\anaconda3\\envs\\rag\\lib\\site-packages (from llama-index-llms-huggingface) (0.12.31)\n",
      "Requirement already satisfied: torch<3.0.0,>=2.1.2 in c:\\users\\khang\\anaconda3\\envs\\rag\\lib\\site-packages (from llama-index-llms-huggingface) (2.6.0)\n",
      "Requirement already satisfied: transformers<5.0.0,>=4.37.0 in c:\\users\\khang\\anaconda3\\envs\\rag\\lib\\site-packages (from transformers[torch]<5.0.0,>=4.37.0->llama-index-llms-huggingface) (4.51.3)\n",
      "Requirement already satisfied: PyYAML>=6.0.1 in c:\\users\\khang\\anaconda3\\envs\\rag\\lib\\site-packages (from llama-index-core<0.13.0,>=0.12.0->llama-index-llms-huggingface) (6.0.2)\n",
      "Requirement already satisfied: SQLAlchemy>=1.4.49 in c:\\users\\khang\\anaconda3\\envs\\rag\\lib\\site-packages (from SQLAlchemy[asyncio]>=1.4.49->llama-index-core<0.13.0,>=0.12.0->llama-index-llms-huggingface) (2.0.40)\n",
      "Requirement already satisfied: aiohttp<4.0.0,>=3.8.6 in c:\\users\\khang\\anaconda3\\envs\\rag\\lib\\site-packages (from llama-index-core<0.13.0,>=0.12.0->llama-index-llms-huggingface) (3.11.16)\n",
      "Requirement already satisfied: banks<3.0.0,>=2.0.0 in c:\\users\\khang\\anaconda3\\envs\\rag\\lib\\site-packages (from llama-index-core<0.13.0,>=0.12.0->llama-index-llms-huggingface) (2.1.1)\n",
      "Requirement already satisfied: dataclasses-json in c:\\users\\khang\\anaconda3\\envs\\rag\\lib\\site-packages (from llama-index-core<0.13.0,>=0.12.0->llama-index-llms-huggingface) (0.6.7)\n",
      "Requirement already satisfied: deprecated>=1.2.9.3 in c:\\users\\khang\\anaconda3\\envs\\rag\\lib\\site-packages (from llama-index-core<0.13.0,>=0.12.0->llama-index-llms-huggingface) (1.2.18)\n",
      "Requirement already satisfied: dirtyjson<2.0.0,>=1.0.8 in c:\\users\\khang\\anaconda3\\envs\\rag\\lib\\site-packages (from llama-index-core<0.13.0,>=0.12.0->llama-index-llms-huggingface) (1.0.8)\n",
      "Requirement already satisfied: filetype<2.0.0,>=1.2.0 in c:\\users\\khang\\anaconda3\\envs\\rag\\lib\\site-packages (from llama-index-core<0.13.0,>=0.12.0->llama-index-llms-huggingface) (1.2.0)\n",
      "Requirement already satisfied: fsspec>=2023.5.0 in c:\\users\\khang\\anaconda3\\envs\\rag\\lib\\site-packages (from llama-index-core<0.13.0,>=0.12.0->llama-index-llms-huggingface) (2024.12.0)\n",
      "Requirement already satisfied: httpx in c:\\users\\khang\\anaconda3\\envs\\rag\\lib\\site-packages (from llama-index-core<0.13.0,>=0.12.0->llama-index-llms-huggingface) (0.28.1)\n",
      "Requirement already satisfied: nest-asyncio<2.0.0,>=1.5.8 in c:\\users\\khang\\appdata\\roaming\\python\\python312\\site-packages (from llama-index-core<0.13.0,>=0.12.0->llama-index-llms-huggingface) (1.6.0)\n",
      "Requirement already satisfied: networkx>=3.0 in c:\\users\\khang\\anaconda3\\envs\\rag\\lib\\site-packages (from llama-index-core<0.13.0,>=0.12.0->llama-index-llms-huggingface) (3.4.2)\n",
      "Requirement already satisfied: nltk>3.8.1 in c:\\users\\khang\\anaconda3\\envs\\rag\\lib\\site-packages (from llama-index-core<0.13.0,>=0.12.0->llama-index-llms-huggingface) (3.9.1)\n",
      "Requirement already satisfied: numpy in c:\\users\\khang\\anaconda3\\envs\\rag\\lib\\site-packages (from llama-index-core<0.13.0,>=0.12.0->llama-index-llms-huggingface) (2.2.4)\n",
      "Requirement already satisfied: pillow>=9.0.0 in c:\\users\\khang\\anaconda3\\envs\\rag\\lib\\site-packages (from llama-index-core<0.13.0,>=0.12.0->llama-index-llms-huggingface) (10.4.0)\n",
      "Requirement already satisfied: pydantic>=2.8.0 in c:\\users\\khang\\anaconda3\\envs\\rag\\lib\\site-packages (from llama-index-core<0.13.0,>=0.12.0->llama-index-llms-huggingface) (2.11.3)\n",
      "Requirement already satisfied: requests>=2.31.0 in c:\\users\\khang\\anaconda3\\envs\\rag\\lib\\site-packages (from llama-index-core<0.13.0,>=0.12.0->llama-index-llms-huggingface) (2.32.3)\n",
      "Requirement already satisfied: tenacity!=8.4.0,<10.0.0,>=8.2.0 in c:\\users\\khang\\anaconda3\\envs\\rag\\lib\\site-packages (from llama-index-core<0.13.0,>=0.12.0->llama-index-llms-huggingface) (9.1.2)\n",
      "Requirement already satisfied: tiktoken>=0.3.3 in c:\\users\\khang\\anaconda3\\envs\\rag\\lib\\site-packages (from llama-index-core<0.13.0,>=0.12.0->llama-index-llms-huggingface) (0.9.0)\n",
      "Requirement already satisfied: tqdm<5.0.0,>=4.66.1 in c:\\users\\khang\\anaconda3\\envs\\rag\\lib\\site-packages (from llama-index-core<0.13.0,>=0.12.0->llama-index-llms-huggingface) (4.67.1)\n",
      "Requirement already satisfied: typing-extensions>=4.5.0 in c:\\users\\khang\\anaconda3\\envs\\rag\\lib\\site-packages (from llama-index-core<0.13.0,>=0.12.0->llama-index-llms-huggingface) (4.13.2)\n",
      "Requirement already satisfied: typing-inspect>=0.8.0 in c:\\users\\khang\\anaconda3\\envs\\rag\\lib\\site-packages (from llama-index-core<0.13.0,>=0.12.0->llama-index-llms-huggingface) (0.9.0)\n",
      "Requirement already satisfied: wrapt in c:\\users\\khang\\anaconda3\\envs\\rag\\lib\\site-packages (from llama-index-core<0.13.0,>=0.12.0->llama-index-llms-huggingface) (1.17.2)\n",
      "Requirement already satisfied: filelock in c:\\users\\khang\\anaconda3\\envs\\rag\\lib\\site-packages (from torch<3.0.0,>=2.1.2->llama-index-llms-huggingface) (3.18.0)\n",
      "Requirement already satisfied: jinja2 in c:\\users\\khang\\anaconda3\\envs\\rag\\lib\\site-packages (from torch<3.0.0,>=2.1.2->llama-index-llms-huggingface) (3.1.6)\n",
      "Requirement already satisfied: setuptools in c:\\users\\khang\\anaconda3\\envs\\rag\\lib\\site-packages (from torch<3.0.0,>=2.1.2->llama-index-llms-huggingface) (78.1.0)\n",
      "Requirement already satisfied: sympy==1.13.1 in c:\\users\\khang\\anaconda3\\envs\\rag\\lib\\site-packages (from torch<3.0.0,>=2.1.2->llama-index-llms-huggingface) (1.13.1)\n",
      "Requirement already satisfied: mpmath<1.4,>=1.1.0 in c:\\users\\khang\\anaconda3\\envs\\rag\\lib\\site-packages (from sympy==1.13.1->torch<3.0.0,>=2.1.2->llama-index-llms-huggingface) (1.3.0)\n",
      "Requirement already satisfied: huggingface-hub<1.0,>=0.30.0 in c:\\users\\khang\\anaconda3\\envs\\rag\\lib\\site-packages (from transformers<5.0.0,>=4.37.0->transformers[torch]<5.0.0,>=4.37.0->llama-index-llms-huggingface) (0.30.2)\n",
      "Requirement already satisfied: packaging>=20.0 in c:\\users\\khang\\anaconda3\\envs\\rag\\lib\\site-packages (from transformers<5.0.0,>=4.37.0->transformers[torch]<5.0.0,>=4.37.0->llama-index-llms-huggingface) (24.2)\n",
      "Requirement already satisfied: regex!=2019.12.17 in c:\\users\\khang\\anaconda3\\envs\\rag\\lib\\site-packages (from transformers<5.0.0,>=4.37.0->transformers[torch]<5.0.0,>=4.37.0->llama-index-llms-huggingface) (2024.11.6)\n",
      "Requirement already satisfied: tokenizers<0.22,>=0.21 in c:\\users\\khang\\anaconda3\\envs\\rag\\lib\\site-packages (from transformers<5.0.0,>=4.37.0->transformers[torch]<5.0.0,>=4.37.0->llama-index-llms-huggingface) (0.21.1)\n",
      "Requirement already satisfied: safetensors>=0.4.3 in c:\\users\\khang\\anaconda3\\envs\\rag\\lib\\site-packages (from transformers<5.0.0,>=4.37.0->transformers[torch]<5.0.0,>=4.37.0->llama-index-llms-huggingface) (0.5.3)\n",
      "Requirement already satisfied: accelerate>=0.26.0 in c:\\users\\khang\\anaconda3\\envs\\rag\\lib\\site-packages (from transformers[torch]<5.0.0,>=4.37.0->llama-index-llms-huggingface) (1.6.0)\n",
      "Requirement already satisfied: psutil in c:\\users\\khang\\appdata\\roaming\\python\\python312\\site-packages (from accelerate>=0.26.0->transformers[torch]<5.0.0,>=4.37.0->llama-index-llms-huggingface) (7.0.0)\n",
      "Requirement already satisfied: aiohappyeyeballs>=2.3.0 in c:\\users\\khang\\anaconda3\\envs\\rag\\lib\\site-packages (from aiohttp<4.0.0,>=3.8.6->llama-index-core<0.13.0,>=0.12.0->llama-index-llms-huggingface) (2.6.1)\n",
      "Requirement already satisfied: aiosignal>=1.1.2 in c:\\users\\khang\\anaconda3\\envs\\rag\\lib\\site-packages (from aiohttp<4.0.0,>=3.8.6->llama-index-core<0.13.0,>=0.12.0->llama-index-llms-huggingface) (1.3.2)\n",
      "Requirement already satisfied: attrs>=17.3.0 in c:\\users\\khang\\anaconda3\\envs\\rag\\lib\\site-packages (from aiohttp<4.0.0,>=3.8.6->llama-index-core<0.13.0,>=0.12.0->llama-index-llms-huggingface) (25.3.0)\n",
      "Requirement already satisfied: frozenlist>=1.1.1 in c:\\users\\khang\\anaconda3\\envs\\rag\\lib\\site-packages (from aiohttp<4.0.0,>=3.8.6->llama-index-core<0.13.0,>=0.12.0->llama-index-llms-huggingface) (1.6.0)\n",
      "Requirement already satisfied: multidict<7.0,>=4.5 in c:\\users\\khang\\anaconda3\\envs\\rag\\lib\\site-packages (from aiohttp<4.0.0,>=3.8.6->llama-index-core<0.13.0,>=0.12.0->llama-index-llms-huggingface) (6.4.3)\n",
      "Requirement already satisfied: propcache>=0.2.0 in c:\\users\\khang\\anaconda3\\envs\\rag\\lib\\site-packages (from aiohttp<4.0.0,>=3.8.6->llama-index-core<0.13.0,>=0.12.0->llama-index-llms-huggingface) (0.3.1)\n",
      "Requirement already satisfied: yarl<2.0,>=1.17.0 in c:\\users\\khang\\anaconda3\\envs\\rag\\lib\\site-packages (from aiohttp<4.0.0,>=3.8.6->llama-index-core<0.13.0,>=0.12.0->llama-index-llms-huggingface) (1.20.0)\n",
      "Requirement already satisfied: griffe in c:\\users\\khang\\anaconda3\\envs\\rag\\lib\\site-packages (from banks<3.0.0,>=2.0.0->llama-index-core<0.13.0,>=0.12.0->llama-index-llms-huggingface) (1.7.2)\n",
      "Requirement already satisfied: platformdirs in c:\\users\\khang\\anaconda3\\envs\\rag\\lib\\site-packages (from banks<3.0.0,>=2.0.0->llama-index-core<0.13.0,>=0.12.0->llama-index-llms-huggingface) (4.3.7)\n",
      "Requirement already satisfied: click in c:\\users\\khang\\anaconda3\\envs\\rag\\lib\\site-packages (from nltk>3.8.1->llama-index-core<0.13.0,>=0.12.0->llama-index-llms-huggingface) (8.1.8)\n",
      "Requirement already satisfied: joblib in c:\\users\\khang\\anaconda3\\envs\\rag\\lib\\site-packages (from nltk>3.8.1->llama-index-core<0.13.0,>=0.12.0->llama-index-llms-huggingface) (1.4.2)\n",
      "Requirement already satisfied: annotated-types>=0.6.0 in c:\\users\\khang\\anaconda3\\envs\\rag\\lib\\site-packages (from pydantic>=2.8.0->llama-index-core<0.13.0,>=0.12.0->llama-index-llms-huggingface) (0.7.0)\n",
      "Requirement already satisfied: pydantic-core==2.33.1 in c:\\users\\khang\\anaconda3\\envs\\rag\\lib\\site-packages (from pydantic>=2.8.0->llama-index-core<0.13.0,>=0.12.0->llama-index-llms-huggingface) (2.33.1)\n",
      "Requirement already satisfied: typing-inspection>=0.4.0 in c:\\users\\khang\\anaconda3\\envs\\rag\\lib\\site-packages (from pydantic>=2.8.0->llama-index-core<0.13.0,>=0.12.0->llama-index-llms-huggingface) (0.4.0)\n",
      "Requirement already satisfied: charset-normalizer<4,>=2 in c:\\users\\khang\\anaconda3\\envs\\rag\\lib\\site-packages (from requests>=2.31.0->llama-index-core<0.13.0,>=0.12.0->llama-index-llms-huggingface) (3.4.1)\n",
      "Requirement already satisfied: idna<4,>=2.5 in c:\\users\\khang\\anaconda3\\envs\\rag\\lib\\site-packages (from requests>=2.31.0->llama-index-core<0.13.0,>=0.12.0->llama-index-llms-huggingface) (3.10)\n",
      "Requirement already satisfied: urllib3<3,>=1.21.1 in c:\\users\\khang\\anaconda3\\envs\\rag\\lib\\site-packages (from requests>=2.31.0->llama-index-core<0.13.0,>=0.12.0->llama-index-llms-huggingface) (2.4.0)\n",
      "Requirement already satisfied: certifi>=2017.4.17 in c:\\users\\khang\\anaconda3\\envs\\rag\\lib\\site-packages (from requests>=2.31.0->llama-index-core<0.13.0,>=0.12.0->llama-index-llms-huggingface) (2025.1.31)\n",
      "Requirement already satisfied: greenlet>=1 in c:\\users\\khang\\anaconda3\\envs\\rag\\lib\\site-packages (from SQLAlchemy>=1.4.49->SQLAlchemy[asyncio]>=1.4.49->llama-index-core<0.13.0,>=0.12.0->llama-index-llms-huggingface) (3.2.0)\n",
      "Requirement already satisfied: colorama in c:\\users\\khang\\anaconda3\\envs\\rag\\lib\\site-packages (from tqdm<5.0.0,>=4.66.1->llama-index-core<0.13.0,>=0.12.0->llama-index-llms-huggingface) (0.4.6)\n",
      "Requirement already satisfied: mypy-extensions>=0.3.0 in c:\\users\\khang\\anaconda3\\envs\\rag\\lib\\site-packages (from typing-inspect>=0.8.0->llama-index-core<0.13.0,>=0.12.0->llama-index-llms-huggingface) (1.0.0)\n",
      "Requirement already satisfied: marshmallow<4.0.0,>=3.18.0 in c:\\users\\khang\\anaconda3\\envs\\rag\\lib\\site-packages (from dataclasses-json->llama-index-core<0.13.0,>=0.12.0->llama-index-llms-huggingface) (3.26.1)\n",
      "Requirement already satisfied: anyio in c:\\users\\khang\\anaconda3\\envs\\rag\\lib\\site-packages (from httpx->llama-index-core<0.13.0,>=0.12.0->llama-index-llms-huggingface) (4.9.0)\n",
      "Requirement already satisfied: httpcore==1.* in c:\\users\\khang\\anaconda3\\envs\\rag\\lib\\site-packages (from httpx->llama-index-core<0.13.0,>=0.12.0->llama-index-llms-huggingface) (1.0.8)\n",
      "Requirement already satisfied: h11<0.15,>=0.13 in c:\\users\\khang\\anaconda3\\envs\\rag\\lib\\site-packages (from httpcore==1.*->httpx->llama-index-core<0.13.0,>=0.12.0->llama-index-llms-huggingface) (0.14.0)\n",
      "Requirement already satisfied: MarkupSafe>=2.0 in c:\\users\\khang\\anaconda3\\envs\\rag\\lib\\site-packages (from jinja2->torch<3.0.0,>=2.1.2->llama-index-llms-huggingface) (3.0.2)\n",
      "Requirement already satisfied: sniffio>=1.1 in c:\\users\\khang\\anaconda3\\envs\\rag\\lib\\site-packages (from anyio->httpx->llama-index-core<0.13.0,>=0.12.0->llama-index-llms-huggingface) (1.3.1)\n",
      "Requirement already satisfied: llama-index-llms-huggingface-api in c:\\users\\khang\\anaconda3\\envs\\rag\\lib\\site-packages (0.4.2)\n",
      "Requirement already satisfied: huggingface-hub>=0.23.0 in c:\\users\\khang\\anaconda3\\envs\\rag\\lib\\site-packages (from llama-index-llms-huggingface-api) (0.30.2)\n",
      "Requirement already satisfied: llama-index-core<0.13,>=0.12.0 in c:\\users\\khang\\anaconda3\\envs\\rag\\lib\\site-packages (from llama-index-llms-huggingface-api) (0.12.31)\n",
      "Requirement already satisfied: filelock in c:\\users\\khang\\anaconda3\\envs\\rag\\lib\\site-packages (from huggingface-hub>=0.23.0->llama-index-llms-huggingface-api) (3.18.0)\n",
      "Requirement already satisfied: fsspec>=2023.5.0 in c:\\users\\khang\\anaconda3\\envs\\rag\\lib\\site-packages (from huggingface-hub>=0.23.0->llama-index-llms-huggingface-api) (2024.12.0)\n",
      "Requirement already satisfied: packaging>=20.9 in c:\\users\\khang\\anaconda3\\envs\\rag\\lib\\site-packages (from huggingface-hub>=0.23.0->llama-index-llms-huggingface-api) (24.2)\n",
      "Requirement already satisfied: pyyaml>=5.1 in c:\\users\\khang\\anaconda3\\envs\\rag\\lib\\site-packages (from huggingface-hub>=0.23.0->llama-index-llms-huggingface-api) (6.0.2)\n",
      "Requirement already satisfied: requests in c:\\users\\khang\\anaconda3\\envs\\rag\\lib\\site-packages (from huggingface-hub>=0.23.0->llama-index-llms-huggingface-api) (2.32.3)\n",
      "Requirement already satisfied: tqdm>=4.42.1 in c:\\users\\khang\\anaconda3\\envs\\rag\\lib\\site-packages (from huggingface-hub>=0.23.0->llama-index-llms-huggingface-api) (4.67.1)\n",
      "Requirement already satisfied: typing-extensions>=3.7.4.3 in c:\\users\\khang\\anaconda3\\envs\\rag\\lib\\site-packages (from huggingface-hub>=0.23.0->llama-index-llms-huggingface-api) (4.13.2)\n",
      "Requirement already satisfied: SQLAlchemy>=1.4.49 in c:\\users\\khang\\anaconda3\\envs\\rag\\lib\\site-packages (from SQLAlchemy[asyncio]>=1.4.49->llama-index-core<0.13,>=0.12.0->llama-index-llms-huggingface-api) (2.0.40)\n",
      "Requirement already satisfied: aiohttp<4.0.0,>=3.8.6 in c:\\users\\khang\\anaconda3\\envs\\rag\\lib\\site-packages (from llama-index-core<0.13,>=0.12.0->llama-index-llms-huggingface-api) (3.11.16)\n",
      "Requirement already satisfied: banks<3.0.0,>=2.0.0 in c:\\users\\khang\\anaconda3\\envs\\rag\\lib\\site-packages (from llama-index-core<0.13,>=0.12.0->llama-index-llms-huggingface-api) (2.1.1)\n",
      "Requirement already satisfied: dataclasses-json in c:\\users\\khang\\anaconda3\\envs\\rag\\lib\\site-packages (from llama-index-core<0.13,>=0.12.0->llama-index-llms-huggingface-api) (0.6.7)\n",
      "Requirement already satisfied: deprecated>=1.2.9.3 in c:\\users\\khang\\anaconda3\\envs\\rag\\lib\\site-packages (from llama-index-core<0.13,>=0.12.0->llama-index-llms-huggingface-api) (1.2.18)\n",
      "Requirement already satisfied: dirtyjson<2.0.0,>=1.0.8 in c:\\users\\khang\\anaconda3\\envs\\rag\\lib\\site-packages (from llama-index-core<0.13,>=0.12.0->llama-index-llms-huggingface-api) (1.0.8)\n",
      "Requirement already satisfied: filetype<2.0.0,>=1.2.0 in c:\\users\\khang\\anaconda3\\envs\\rag\\lib\\site-packages (from llama-index-core<0.13,>=0.12.0->llama-index-llms-huggingface-api) (1.2.0)\n",
      "Requirement already satisfied: httpx in c:\\users\\khang\\anaconda3\\envs\\rag\\lib\\site-packages (from llama-index-core<0.13,>=0.12.0->llama-index-llms-huggingface-api) (0.28.1)\n",
      "Requirement already satisfied: nest-asyncio<2.0.0,>=1.5.8 in c:\\users\\khang\\appdata\\roaming\\python\\python312\\site-packages (from llama-index-core<0.13,>=0.12.0->llama-index-llms-huggingface-api) (1.6.0)\n",
      "Requirement already satisfied: networkx>=3.0 in c:\\users\\khang\\anaconda3\\envs\\rag\\lib\\site-packages (from llama-index-core<0.13,>=0.12.0->llama-index-llms-huggingface-api) (3.4.2)\n",
      "Requirement already satisfied: nltk>3.8.1 in c:\\users\\khang\\anaconda3\\envs\\rag\\lib\\site-packages (from llama-index-core<0.13,>=0.12.0->llama-index-llms-huggingface-api) (3.9.1)\n",
      "Requirement already satisfied: numpy in c:\\users\\khang\\anaconda3\\envs\\rag\\lib\\site-packages (from llama-index-core<0.13,>=0.12.0->llama-index-llms-huggingface-api) (2.2.4)\n",
      "Requirement already satisfied: pillow>=9.0.0 in c:\\users\\khang\\anaconda3\\envs\\rag\\lib\\site-packages (from llama-index-core<0.13,>=0.12.0->llama-index-llms-huggingface-api) (10.4.0)\n",
      "Requirement already satisfied: pydantic>=2.8.0 in c:\\users\\khang\\anaconda3\\envs\\rag\\lib\\site-packages (from llama-index-core<0.13,>=0.12.0->llama-index-llms-huggingface-api) (2.11.3)\n",
      "Requirement already satisfied: tenacity!=8.4.0,<10.0.0,>=8.2.0 in c:\\users\\khang\\anaconda3\\envs\\rag\\lib\\site-packages (from llama-index-core<0.13,>=0.12.0->llama-index-llms-huggingface-api) (9.1.2)\n",
      "Requirement already satisfied: tiktoken>=0.3.3 in c:\\users\\khang\\anaconda3\\envs\\rag\\lib\\site-packages (from llama-index-core<0.13,>=0.12.0->llama-index-llms-huggingface-api) (0.9.0)\n",
      "Requirement already satisfied: typing-inspect>=0.8.0 in c:\\users\\khang\\anaconda3\\envs\\rag\\lib\\site-packages (from llama-index-core<0.13,>=0.12.0->llama-index-llms-huggingface-api) (0.9.0)\n",
      "Requirement already satisfied: wrapt in c:\\users\\khang\\anaconda3\\envs\\rag\\lib\\site-packages (from llama-index-core<0.13,>=0.12.0->llama-index-llms-huggingface-api) (1.17.2)\n",
      "Requirement already satisfied: aiohappyeyeballs>=2.3.0 in c:\\users\\khang\\anaconda3\\envs\\rag\\lib\\site-packages (from aiohttp<4.0.0,>=3.8.6->llama-index-core<0.13,>=0.12.0->llama-index-llms-huggingface-api) (2.6.1)\n",
      "Requirement already satisfied: aiosignal>=1.1.2 in c:\\users\\khang\\anaconda3\\envs\\rag\\lib\\site-packages (from aiohttp<4.0.0,>=3.8.6->llama-index-core<0.13,>=0.12.0->llama-index-llms-huggingface-api) (1.3.2)\n",
      "Requirement already satisfied: attrs>=17.3.0 in c:\\users\\khang\\anaconda3\\envs\\rag\\lib\\site-packages (from aiohttp<4.0.0,>=3.8.6->llama-index-core<0.13,>=0.12.0->llama-index-llms-huggingface-api) (25.3.0)\n",
      "Requirement already satisfied: frozenlist>=1.1.1 in c:\\users\\khang\\anaconda3\\envs\\rag\\lib\\site-packages (from aiohttp<4.0.0,>=3.8.6->llama-index-core<0.13,>=0.12.0->llama-index-llms-huggingface-api) (1.6.0)\n",
      "Requirement already satisfied: multidict<7.0,>=4.5 in c:\\users\\khang\\anaconda3\\envs\\rag\\lib\\site-packages (from aiohttp<4.0.0,>=3.8.6->llama-index-core<0.13,>=0.12.0->llama-index-llms-huggingface-api) (6.4.3)\n",
      "Requirement already satisfied: propcache>=0.2.0 in c:\\users\\khang\\anaconda3\\envs\\rag\\lib\\site-packages (from aiohttp<4.0.0,>=3.8.6->llama-index-core<0.13,>=0.12.0->llama-index-llms-huggingface-api) (0.3.1)\n",
      "Requirement already satisfied: yarl<2.0,>=1.17.0 in c:\\users\\khang\\anaconda3\\envs\\rag\\lib\\site-packages (from aiohttp<4.0.0,>=3.8.6->llama-index-core<0.13,>=0.12.0->llama-index-llms-huggingface-api) (1.20.0)\n",
      "Requirement already satisfied: griffe in c:\\users\\khang\\anaconda3\\envs\\rag\\lib\\site-packages (from banks<3.0.0,>=2.0.0->llama-index-core<0.13,>=0.12.0->llama-index-llms-huggingface-api) (1.7.2)\n",
      "Requirement already satisfied: jinja2 in c:\\users\\khang\\anaconda3\\envs\\rag\\lib\\site-packages (from banks<3.0.0,>=2.0.0->llama-index-core<0.13,>=0.12.0->llama-index-llms-huggingface-api) (3.1.6)\n",
      "Requirement already satisfied: platformdirs in c:\\users\\khang\\anaconda3\\envs\\rag\\lib\\site-packages (from banks<3.0.0,>=2.0.0->llama-index-core<0.13,>=0.12.0->llama-index-llms-huggingface-api) (4.3.7)\n",
      "Requirement already satisfied: click in c:\\users\\khang\\anaconda3\\envs\\rag\\lib\\site-packages (from nltk>3.8.1->llama-index-core<0.13,>=0.12.0->llama-index-llms-huggingface-api) (8.1.8)\n",
      "Requirement already satisfied: joblib in c:\\users\\khang\\anaconda3\\envs\\rag\\lib\\site-packages (from nltk>3.8.1->llama-index-core<0.13,>=0.12.0->llama-index-llms-huggingface-api) (1.4.2)\n",
      "Requirement already satisfied: regex>=2021.8.3 in c:\\users\\khang\\anaconda3\\envs\\rag\\lib\\site-packages (from nltk>3.8.1->llama-index-core<0.13,>=0.12.0->llama-index-llms-huggingface-api) (2024.11.6)\n",
      "Requirement already satisfied: annotated-types>=0.6.0 in c:\\users\\khang\\anaconda3\\envs\\rag\\lib\\site-packages (from pydantic>=2.8.0->llama-index-core<0.13,>=0.12.0->llama-index-llms-huggingface-api) (0.7.0)\n",
      "Requirement already satisfied: pydantic-core==2.33.1 in c:\\users\\khang\\anaconda3\\envs\\rag\\lib\\site-packages (from pydantic>=2.8.0->llama-index-core<0.13,>=0.12.0->llama-index-llms-huggingface-api) (2.33.1)\n",
      "Requirement already satisfied: typing-inspection>=0.4.0 in c:\\users\\khang\\anaconda3\\envs\\rag\\lib\\site-packages (from pydantic>=2.8.0->llama-index-core<0.13,>=0.12.0->llama-index-llms-huggingface-api) (0.4.0)\n",
      "Requirement already satisfied: charset-normalizer<4,>=2 in c:\\users\\khang\\anaconda3\\envs\\rag\\lib\\site-packages (from requests->huggingface-hub>=0.23.0->llama-index-llms-huggingface-api) (3.4.1)\n",
      "Requirement already satisfied: idna<4,>=2.5 in c:\\users\\khang\\anaconda3\\envs\\rag\\lib\\site-packages (from requests->huggingface-hub>=0.23.0->llama-index-llms-huggingface-api) (3.10)\n",
      "Requirement already satisfied: urllib3<3,>=1.21.1 in c:\\users\\khang\\anaconda3\\envs\\rag\\lib\\site-packages (from requests->huggingface-hub>=0.23.0->llama-index-llms-huggingface-api) (2.4.0)\n",
      "Requirement already satisfied: certifi>=2017.4.17 in c:\\users\\khang\\anaconda3\\envs\\rag\\lib\\site-packages (from requests->huggingface-hub>=0.23.0->llama-index-llms-huggingface-api) (2025.1.31)\n",
      "Requirement already satisfied: greenlet>=1 in c:\\users\\khang\\anaconda3\\envs\\rag\\lib\\site-packages (from SQLAlchemy>=1.4.49->SQLAlchemy[asyncio]>=1.4.49->llama-index-core<0.13,>=0.12.0->llama-index-llms-huggingface-api) (3.2.0)\n",
      "Requirement already satisfied: colorama in c:\\users\\khang\\anaconda3\\envs\\rag\\lib\\site-packages (from tqdm>=4.42.1->huggingface-hub>=0.23.0->llama-index-llms-huggingface-api) (0.4.6)\n",
      "Requirement already satisfied: mypy-extensions>=0.3.0 in c:\\users\\khang\\anaconda3\\envs\\rag\\lib\\site-packages (from typing-inspect>=0.8.0->llama-index-core<0.13,>=0.12.0->llama-index-llms-huggingface-api) (1.0.0)\n",
      "Requirement already satisfied: marshmallow<4.0.0,>=3.18.0 in c:\\users\\khang\\anaconda3\\envs\\rag\\lib\\site-packages (from dataclasses-json->llama-index-core<0.13,>=0.12.0->llama-index-llms-huggingface-api) (3.26.1)\n",
      "Requirement already satisfied: anyio in c:\\users\\khang\\anaconda3\\envs\\rag\\lib\\site-packages (from httpx->llama-index-core<0.13,>=0.12.0->llama-index-llms-huggingface-api) (4.9.0)\n",
      "Requirement already satisfied: httpcore==1.* in c:\\users\\khang\\anaconda3\\envs\\rag\\lib\\site-packages (from httpx->llama-index-core<0.13,>=0.12.0->llama-index-llms-huggingface-api) (1.0.8)\n",
      "Requirement already satisfied: h11<0.15,>=0.13 in c:\\users\\khang\\anaconda3\\envs\\rag\\lib\\site-packages (from httpcore==1.*->httpx->llama-index-core<0.13,>=0.12.0->llama-index-llms-huggingface-api) (0.14.0)\n",
      "Requirement already satisfied: sniffio>=1.1 in c:\\users\\khang\\anaconda3\\envs\\rag\\lib\\site-packages (from anyio->httpx->llama-index-core<0.13,>=0.12.0->llama-index-llms-huggingface-api) (1.3.1)\n",
      "Requirement already satisfied: MarkupSafe>=2.0 in c:\\users\\khang\\anaconda3\\envs\\rag\\lib\\site-packages (from jinja2->banks<3.0.0,>=2.0.0->llama-index-core<0.13,>=0.12.0->llama-index-llms-huggingface-api) (3.0.2)\n",
      "Note: you may need to restart the kernel to use updated packages.\n",
      "Requirement already satisfied: transformers[torch] in c:\\users\\khang\\anaconda3\\envs\\rag\\lib\\site-packages (4.51.3)\n",
      "Requirement already satisfied: huggingface_hub[inference] in c:\\users\\khang\\anaconda3\\envs\\rag\\lib\\site-packages (0.30.2)\n",
      "Requirement already satisfied: filelock in c:\\users\\khang\\anaconda3\\envs\\rag\\lib\\site-packages (from transformers[torch]) (3.18.0)\n",
      "Requirement already satisfied: numpy>=1.17 in c:\\users\\khang\\anaconda3\\envs\\rag\\lib\\site-packages (from transformers[torch]) (2.2.4)\n",
      "Requirement already satisfied: packaging>=20.0 in c:\\users\\khang\\anaconda3\\envs\\rag\\lib\\site-packages (from transformers[torch]) (24.2)\n",
      "Requirement already satisfied: pyyaml>=5.1 in c:\\users\\khang\\anaconda3\\envs\\rag\\lib\\site-packages (from transformers[torch]) (6.0.2)\n",
      "Requirement already satisfied: regex!=2019.12.17 in c:\\users\\khang\\anaconda3\\envs\\rag\\lib\\site-packages (from transformers[torch]) (2024.11.6)\n",
      "Requirement already satisfied: requests in c:\\users\\khang\\anaconda3\\envs\\rag\\lib\\site-packages (from transformers[torch]) (2.32.3)\n",
      "Requirement already satisfied: tokenizers<0.22,>=0.21 in c:\\users\\khang\\anaconda3\\envs\\rag\\lib\\site-packages (from transformers[torch]) (0.21.1)\n",
      "Requirement already satisfied: safetensors>=0.4.3 in c:\\users\\khang\\anaconda3\\envs\\rag\\lib\\site-packages (from transformers[torch]) (0.5.3)\n",
      "Requirement already satisfied: tqdm>=4.27 in c:\\users\\khang\\anaconda3\\envs\\rag\\lib\\site-packages (from transformers[torch]) (4.67.1)\n",
      "Requirement already satisfied: torch>=2.0 in c:\\users\\khang\\anaconda3\\envs\\rag\\lib\\site-packages (from transformers[torch]) (2.6.0)\n",
      "Requirement already satisfied: accelerate>=0.26.0 in c:\\users\\khang\\anaconda3\\envs\\rag\\lib\\site-packages (from transformers[torch]) (1.6.0)\n",
      "Requirement already satisfied: fsspec>=2023.5.0 in c:\\users\\khang\\anaconda3\\envs\\rag\\lib\\site-packages (from huggingface_hub[inference]) (2024.12.0)\n",
      "Requirement already satisfied: typing-extensions>=3.7.4.3 in c:\\users\\khang\\anaconda3\\envs\\rag\\lib\\site-packages (from huggingface_hub[inference]) (4.13.2)\n",
      "Requirement already satisfied: aiohttp in c:\\users\\khang\\anaconda3\\envs\\rag\\lib\\site-packages (from huggingface_hub[inference]) (3.11.16)\n",
      "Requirement already satisfied: psutil in c:\\users\\khang\\appdata\\roaming\\python\\python312\\site-packages (from accelerate>=0.26.0->transformers[torch]) (7.0.0)\n",
      "Requirement already satisfied: networkx in c:\\users\\khang\\anaconda3\\envs\\rag\\lib\\site-packages (from torch>=2.0->transformers[torch]) (3.4.2)\n",
      "Requirement already satisfied: jinja2 in c:\\users\\khang\\anaconda3\\envs\\rag\\lib\\site-packages (from torch>=2.0->transformers[torch]) (3.1.6)\n",
      "Requirement already satisfied: setuptools in c:\\users\\khang\\anaconda3\\envs\\rag\\lib\\site-packages (from torch>=2.0->transformers[torch]) (78.1.0)\n",
      "Requirement already satisfied: sympy==1.13.1 in c:\\users\\khang\\anaconda3\\envs\\rag\\lib\\site-packages (from torch>=2.0->transformers[torch]) (1.13.1)\n",
      "Requirement already satisfied: mpmath<1.4,>=1.1.0 in c:\\users\\khang\\anaconda3\\envs\\rag\\lib\\site-packages (from sympy==1.13.1->torch>=2.0->transformers[torch]) (1.3.0)\n",
      "Requirement already satisfied: colorama in c:\\users\\khang\\anaconda3\\envs\\rag\\lib\\site-packages (from tqdm>=4.27->transformers[torch]) (0.4.6)\n",
      "Requirement already satisfied: aiohappyeyeballs>=2.3.0 in c:\\users\\khang\\anaconda3\\envs\\rag\\lib\\site-packages (from aiohttp->huggingface_hub[inference]) (2.6.1)\n",
      "Requirement already satisfied: aiosignal>=1.1.2 in c:\\users\\khang\\anaconda3\\envs\\rag\\lib\\site-packages (from aiohttp->huggingface_hub[inference]) (1.3.2)\n",
      "Requirement already satisfied: attrs>=17.3.0 in c:\\users\\khang\\anaconda3\\envs\\rag\\lib\\site-packages (from aiohttp->huggingface_hub[inference]) (25.3.0)\n",
      "Requirement already satisfied: frozenlist>=1.1.1 in c:\\users\\khang\\anaconda3\\envs\\rag\\lib\\site-packages (from aiohttp->huggingface_hub[inference]) (1.6.0)\n",
      "Requirement already satisfied: multidict<7.0,>=4.5 in c:\\users\\khang\\anaconda3\\envs\\rag\\lib\\site-packages (from aiohttp->huggingface_hub[inference]) (6.4.3)\n",
      "Requirement already satisfied: propcache>=0.2.0 in c:\\users\\khang\\anaconda3\\envs\\rag\\lib\\site-packages (from aiohttp->huggingface_hub[inference]) (0.3.1)\n",
      "Requirement already satisfied: yarl<2.0,>=1.17.0 in c:\\users\\khang\\anaconda3\\envs\\rag\\lib\\site-packages (from aiohttp->huggingface_hub[inference]) (1.20.0)\n",
      "Requirement already satisfied: charset-normalizer<4,>=2 in c:\\users\\khang\\anaconda3\\envs\\rag\\lib\\site-packages (from requests->transformers[torch]) (3.4.1)\n",
      "Requirement already satisfied: idna<4,>=2.5 in c:\\users\\khang\\anaconda3\\envs\\rag\\lib\\site-packages (from requests->transformers[torch]) (3.10)\n",
      "Requirement already satisfied: urllib3<3,>=1.21.1 in c:\\users\\khang\\anaconda3\\envs\\rag\\lib\\site-packages (from requests->transformers[torch]) (2.4.0)\n",
      "Requirement already satisfied: certifi>=2017.4.17 in c:\\users\\khang\\anaconda3\\envs\\rag\\lib\\site-packages (from requests->transformers[torch]) (2025.1.31)\n",
      "Requirement already satisfied: MarkupSafe>=2.0 in c:\\users\\khang\\anaconda3\\envs\\rag\\lib\\site-packages (from jinja2->torch>=2.0->transformers[torch]) (3.0.2)\n"
     ]
    }
   ],
   "source": [
    "%pip install llama-index-llms-huggingface\n",
    "%pip install llama-index-llms-huggingface-api\n",
    "!pip install \"transformers[torch]\" \"huggingface_hub[inference]\""
   ]
  },
  {
   "cell_type": "markdown",
   "id": "ad2f68a3",
   "metadata": {},
   "source": [
    "Import"
   ]
  },
  {
   "cell_type": "code",
   "execution_count": 26,
   "id": "c158c821",
   "metadata": {},
   "outputs": [],
   "source": [
    "# IGNORE WARNING\n",
    "import warnings\n",
    "warnings.filterwarnings(\"ignore\")\n",
    "from llama_index.core.schema import TextNode\n",
    "from datasets import load_dataset\n",
    "import uuid\n",
    "\n",
    "# LOAD ENV\n",
    "import os\n",
    "from dotenv import load_dotenv\n",
    "load_dotenv()\n",
    "\n",
    "# LLM\n",
    "from llama_index.llms.google_genai import GoogleGenAI\n",
    "\n",
    "# EMBEDDING\n",
    "from llama_index.embeddings.huggingface import HuggingFaceEmbedding\n",
    "\n",
    "# QDRANT (STORAGE)\n",
    "from llama_index.core.indices.vector_store.base import VectorStoreIndex\n",
    "from llama_index.vector_stores.qdrant import QdrantVectorStore\n",
    "#from llama_index.core import StorageContext"
   ]
  },
  {
   "cell_type": "code",
   "execution_count": 27,
   "id": "5d0d3e53",
   "metadata": {},
   "outputs": [],
   "source": [
    "import os\n",
    "from typing import List, Optional\n",
    "\n",
    "from llama_index.llms.huggingface import HuggingFaceLLM\n",
    "from llama_index.llms.huggingface_api import HuggingFaceInferenceAPI\n",
    "\n",
    "HF_TOKEN: Optional[str] = os.getenv(\"HUGGING_FACE_TOKEN\")\n"
   ]
  },
  {
   "cell_type": "markdown",
   "id": "f314c527",
   "metadata": {},
   "source": [
    "## Setting"
   ]
  },
  {
   "cell_type": "code",
   "execution_count": 28,
   "id": "74aaec98",
   "metadata": {},
   "outputs": [
    {
     "name": "stdout",
     "output_type": "stream",
     "text": [
      "NAME              ID              SIZE      MODIFIED    \n",
      "gemma:7b          a72c7f4d0a15    5.0 GB    4 weeks ago    \n",
      "gemma2:2b         8ccf136fdd52    1.6 GB    4 weeks ago    \n",
      "qwen2.5:3b        357c53fb659c    1.9 GB    7 weeks ago    \n",
      "qwen2.5:1.5b      65ec06548149    986 MB    7 weeks ago    \n",
      "qwen2.5:latest    845dbda0ea48    4.7 GB    7 weeks ago    \n"
     ]
    }
   ],
   "source": [
    "!ollama list"
   ]
  },
  {
   "cell_type": "code",
   "execution_count": 29,
   "id": "d22acc9e",
   "metadata": {},
   "outputs": [],
   "source": [
    "# #%pip install llama-index-llms-ollama\n",
    "# from llama_index.llms.ollama import Ollama\n",
    "# llm = Ollama(model=\"qwen2.5:1.5b\", request_timeout=120.0)"
   ]
  },
  {
   "cell_type": "code",
   "execution_count": 30,
   "id": "4f568645",
   "metadata": {},
   "outputs": [],
   "source": [
    "# llm.complete(\"Vì sao bầu trời lại màu xanh\")"
   ]
  },
  {
   "cell_type": "code",
   "execution_count": 31,
   "id": "cd97b077",
   "metadata": {},
   "outputs": [],
   "source": [
    "llm = GoogleGenAI(\n",
    "    model=\"gemini-2.0-flash\",\n",
    ")\n",
    "\n",
    "embed_model = HuggingFaceEmbedding(\n",
    "    model_name=\"bkai-foundation-models/vietnamese-bi-encoder\"\n",
    ")"
   ]
  },
  {
   "cell_type": "markdown",
   "id": "c0986e59",
   "metadata": {},
   "source": [
    "## Data Loading"
   ]
  },
  {
   "cell_type": "markdown",
   "id": "e063b3f4",
   "metadata": {},
   "source": [
    "Danh sách documents chứa các Document, mỗi Document là 1 file về luật hôn nhân gia đình."
   ]
  },
  {
   "cell_type": "markdown",
   "id": "5aaeb1c3",
   "metadata": {},
   "source": [
    "Đã load và xử lý index vào qdrant nên không cần load làm gì nữa"
   ]
  },
  {
   "cell_type": "code",
   "execution_count": 32,
   "id": "1e91bf53",
   "metadata": {},
   "outputs": [],
   "source": [
    "# nodes = []\n",
    "# def _load_dataset(path=\"khanglt0004/vietnamese_legal_chunks\"):\n",
    "#     dataset = load_dataset(path)\n",
    "#     for item in dataset['train']:\n",
    "#         new_node = TextNode(\n",
    "#             text=item['text'],\n",
    "#             id_=str(uuid.uuid5(uuid.NAMESPACE_DNS, str(item['id']))),\n",
    "#             metadata=item['metadata']\n",
    "#         )\n",
    "#         nodes.append(new_node)\n",
    "#     print(\"Đã tải dữ liệu các chunks, số lượng: \", len(nodes))\n",
    "# _load_dataset()"
   ]
  },
  {
   "cell_type": "markdown",
   "id": "29c68eaf",
   "metadata": {},
   "source": [
    "## Indexing & Storing"
   ]
  },
  {
   "cell_type": "markdown",
   "id": "2fd19a65",
   "metadata": {},
   "source": [
    "Đã index trong Qdrant Cloud, chỉ việc lấy xuống thôi"
   ]
  },
  {
   "cell_type": "code",
   "execution_count": 36,
   "id": "b1542580",
   "metadata": {},
   "outputs": [],
   "source": [
    "import qdrant_client\n",
    "\n",
    "client = qdrant_client.QdrantClient(\n",
    "    \"https://08838c4e-e0ad-488e-a2a9-b217fa55c19a.us-east-1-0.aws.cloud.qdrant.io\",\n",
    "    api_key=os.environ[\"QDRANT_API_KEY\"]\n",
    ")\n",
    "\n",
    "\n",
    "vector_store = QdrantVectorStore(\n",
    "    client=client, \n",
    "    collection_name=\"law_db\",\n",
    "    enable_hybrid=True,\n",
    "    fastembed_sparse_model=\"Qdrant/bm25\",\n",
    "    batch_size=20,\n",
    "    )\n",
    "\n",
    "\n",
    "# NOTE: reate Vector Database in Qdrant\n",
    "# storage_context = StorageContext.from_defaults(vector_store=vector_store)\n",
    "# index = VectorStoreIndex(\n",
    "#     nodes,\n",
    "#     storage_context=storage_context,\n",
    "#     embed_model = embed_model,\n",
    "# )\n",
    "\n",
    "# NOTE: Load Vector Database from Qdrant\n",
    "loaded_index = VectorStoreIndex.from_vector_store(\n",
    "    vector_store,\n",
    "    embed_model=embed_model\n",
    ")"
   ]
  },
  {
   "cell_type": "markdown",
   "id": "6519263f",
   "metadata": {},
   "source": [
    "## Retrival \n",
    "\n",
    "Dùng để Evaluate khả năng Retrieve của mô hình (@1, @3)"
   ]
  },
  {
   "cell_type": "code",
   "execution_count": 37,
   "id": "5220caf1",
   "metadata": {},
   "outputs": [],
   "source": [
    "retriever = loaded_index.as_retriever(similarity_top_k=3, sparse_top_k=8, vector_store_query_mode=\"hybrid\")\n",
    "nodes = retriever.retrieve(\"Nhà của tôi và chồng đứng tên sổ đỏ, sau khi ly hôn tôi có được quyền sở hữu không?\")"
   ]
  },
  {
   "cell_type": "code",
   "execution_count": 38,
   "id": "47327edd",
   "metadata": {},
   "outputs": [
    {
     "name": "stdout",
     "output_type": "stream",
     "text": [
      "Score:  0.5\n",
      "Trong trường hợp chỉ một bên có nhu cầu và có điều kiện trực tiếp sử dụng đất thì bên đó được tiếp tục sử dụng nhưng phải thanh toán cho bên kia phần giá trị quyền sử dụng đất mà họ được hưởng;\n",
      "\n",
      "b) Trong trường hợp vợ chồng có quyền sử dụng đất nông nghiệp trồng cây hàng năm, nuôi trồng thủy sản chung với hộ gia đình thì khi ly hôn phần quyền sử dụng đất của vợ chồng được tách ra và chia theo quy định tại điểm a khoản này;\n",
      "\n",
      "c) Đối với đất nông nghiệp trồng cây lâu năm, đất lâm nghiệp để trồng rừng, đất ở thì được chia theo quy định tại Điều 59 của Luật này;\n",
      "\n",
      "d) Đối với loại đất khác thì được chia theo quy định của pháp luật về đất đai.\n",
      "\n",
      "3. Trong trường hợp vợ chồng sống chung với gia đình mà không có quyền sử dụng đất chung với hộ gia đình thì khi ly hôn quyền lợi của bên không có quyền sử dụng đất và không tiếp tục sống chung với gia đình được giải quyết theo quy định tại Điều 61 của Luật này.\n",
      "----------------------------------------------------------------------------------------------------\n",
      "Score:  0.5\n",
      "a) Chế độ phụ hệ:\n",
      "\n",
      "Khi ly hôn, nếu do người vợ yêu cầu ly hôn thì nhà gái phải trả lại nhà trai toàn bộ đồ sính lễ và những phí tổn khác; nếu do người chồng yêu cầu ly hôn thì nhà gái vẫn phải trả lại nhà trai một nửa đồ sính lễ. Sau khi ly hôn, nếu người phụ nữ kết hôn với người khác thì không được hưởng và mang đi bất cứ tài sản gì. Sau khi cha, mẹ ly hôn, con phải theo cha.\n",
      "\n",
      "Khi người chồng chết, người vợ góa không có quyền hưởng phần di sản của người chồng quá cố để lại. Nếu người vợ góa tái hôn với người khác thì không được hưởng và mang đi bất cứ tài sản gì.\n",
      "\n",
      "Khi người cha chết, chỉ các con trai có quyền còn các con gái không có quyền hưởng phần di sản của người cha quá cố để lại.\n",
      "\n",
      "b) Chế độ mẫu hệ:\n",
      "\n",
      "Người con bị bắt buộc phải mang họ của người mẹ.\n",
      "\n",
      "Khi người vợ chết, người chồng góa không có quyền hưởng phần di sản của người vợ quá cố để lại và không được mang tài sản riêng của mình về nhà.\n",
      "\n",
      "Khi người mẹ chết, chỉ các con gái có quyền còn các con trai không có quyền hưởng phần di sản của người mẹ quá cố để lại.\n",
      "----------------------------------------------------------------------------------------------------\n",
      "Score:  0.32164055014680865\n",
      "Điều 62. Chia quyền sử dụng đất của vợ chồng khi ly hôn\n",
      "\n",
      "1. Quyền sử dụng đất là tài sản riêng của bên nào thì khi ly hôn vẫn thuộc về bên đó.\n",
      "\n",
      "2. Việc chia quyền sử dụng đất là tài sản chung của vợ chồng khi ly hôn được thực hiện như sau:\n",
      "\n",
      "a) Đối với đất nông nghiệp trồng cây hàng năm, nuôi trồng thủy sản, nếu cả hai bên đều có nhu cầu và có điều kiện trực tiếp sử dụng đất thì được chia theo thỏa thuận của hai bên; nếu không thỏa thuận được thì yêu cầu Tòa án giải quyết theo quy định tại Điều 59 của Luật này.\n",
      "----------------------------------------------------------------------------------------------------\n"
     ]
    }
   ],
   "source": [
    "for node in nodes:\n",
    "    print('Score: ', node.score)\n",
    "    print(node.get_content())\n",
    "    print('-'*100)"
   ]
  },
  {
   "cell_type": "markdown",
   "id": "781fed69",
   "metadata": {},
   "source": [
    "## Query Engine"
   ]
  },
  {
   "cell_type": "code",
   "execution_count": null,
   "id": "2633eb30",
   "metadata": {},
   "outputs": [],
   "source": [
    "# query_engine = loaded_index.as_query_engine(llm=llm, similarity_top_k=3, sparse_top_k=8, vector_store_query_mode=\"hybrid\")"
   ]
  },
  {
   "cell_type": "code",
   "execution_count": null,
   "id": "779232c3",
   "metadata": {},
   "outputs": [],
   "source": [
    "# response = query_engine.query(\"Tôi bị chồng hành hung, tôi muốn ly hôn và được nuôi con. Tôi có thể làm gì?\")\n",
    "# print(\"Câu trả lời:\", response.response)\n",
    "# print(\"\\nTop các đoạn context được dùng:\")\n",
    "\n",
    "# for node in response.source_nodes:\n",
    "#     print(f\"- Score: {node.score}\")\n",
    "#     print(node.node.get_text())\n",
    "#     print(\"-----\")\n"
   ]
  },
  {
   "cell_type": "markdown",
   "id": "edd5c8d4",
   "metadata": {},
   "source": [
    "## Update Prompt for Retrieval Strategy"
   ]
  },
  {
   "cell_type": "markdown",
   "id": "5161a081",
   "metadata": {},
   "source": [
    "Tạo prompt bằng tiếng việt tăng đáng kể hiệu quả"
   ]
  },
  {
   "cell_type": "code",
   "execution_count": 39,
   "id": "07dbb979",
   "metadata": {},
   "outputs": [],
   "source": [
    "from llama_index.core.prompts import RichPromptTemplate\n",
    "qa_prompt_tmpl_str = (\n",
    "    \"Bạn là trợ lý tư vấn pháp luật cho nhiệm vụ hỏi đáp với người dùng.\\n\"\n",
    "    \"Sử dụng các phần sau của bối cảnh được truy xuất để trả lời câu hỏi.\\n\"\n",
    "    \"Nếu bạn không biết câu trả lời, đừng cố tạo câu trả lời..\\n\"\n",
    "    \"Ngữ cảnh cung cấp:\\n\"\n",
    "    \"---------------------\\n\"\n",
    "    \"{{ context_str }}\\n\"\n",
    "    \"Hãy trả lời câu hỏi sau với phong cách của một luật sư.\\n\"\n",
    "    \"Người dùng hỏi: {{ query_str }}\\n\"\n",
    "    \"Trả lời: \"\n",
    "\n",
    ")\n",
    "qa_prompt_tmpl = RichPromptTemplate(qa_prompt_tmpl_str)\n",
    "query_engine_1 = loaded_index.as_query_engine(text_qa_template=qa_prompt_tmpl, llm=llm, similarity_top_k=3, sparse_top_k=8, vector_store_query_mode=\"hybrid\")\n",
    "\n",
    "\n"
   ]
  },
  {
   "cell_type": "code",
   "execution_count": 40,
   "id": "6b30c84c",
   "metadata": {},
   "outputs": [],
   "source": [
    "# response = query_engine_1.query(\"Tôi muốn hỏi về thủ tục ly hôn?\")\n",
    "# print(\"Câu trả lời:\", response.response)\n",
    "# print(\"\\nTop các đoạn context được dùng:\")\n",
    "\n",
    "# for node in response.source_nodes:\n",
    "#     print(f\"- Score: {node.score}\")\n",
    "#     print(node.node.get_text())\n",
    "#     print(\"-----\")"
   ]
  },
  {
   "cell_type": "markdown",
   "id": "e4342a0e",
   "metadata": {},
   "source": [
    "## Chat Engine\n",
    "\n",
    "Nếu Query Engine để Q-A 1 1 thì Chat Engine để phục vụ việc chat với mọi người, chat với lịch sử, .."
   ]
  },
  {
   "cell_type": "code",
   "execution_count": 41,
   "id": "34875639",
   "metadata": {},
   "outputs": [],
   "source": [
    "from llama_index.core import PromptTemplate\n",
    "from llama_index.core.llms import ChatMessage, MessageRole\n",
    "from llama_index.core.chat_engine import CondenseQuestionChatEngine\n",
    "from llama_index.core.postprocessor import SimilarityPostprocessor\n",
    "\n",
    "sim_postprocessor = SimilarityPostprocessor(similarity_cutoff=0.4)\n",
    "\n",
    "custom_prompt = PromptTemplate(\n",
    "    \"\"\"\\\n",
    "Cho đoạn hội thoại(Giữa người dùng và trợ lý) và một câu hỏi tiếp theo từ người dùng, \\\n",
    "vui lòng viết lại câu hỏi để nó trở thành một câu hỏi độc lập, \\\n",
    "có thể hiểu được toàn bộ ngữ cảnh đoạn hội thoại. \\\n",
    "\n",
    "<Đoạn hội thoại>\n",
    "{chat_history}\n",
    "\n",
    "<Câu hỏi tiếp theo>\n",
    "{question}\n",
    "\n",
    "<Câu hỏi độc lập>\n",
    "\"\"\"\n",
    ")\n",
    "\n",
    "# list of `ChatMessage` objects\n",
    "custom_chat_history = [\n",
    "    ChatMessage(\n",
    "        role=MessageRole.USER,\n",
    "        content=\"Chào bạn, tôi cần sự giúp đỡ của bạn về một vấn đề pháp lý, lĩnh vực hôn nhân gia đình.\",\n",
    "    ),\n",
    "    ChatMessage(role=MessageRole.ASSISTANT, content=\"Được thôi! Tôi có thể giúp gì cho bạn?\"),\n",
    "]\n",
    "\n",
    "query_engine = loaded_index.as_query_engine(\n",
    "    text_qa_template=qa_prompt_tmpl, \n",
    "    llm=llm,\n",
    "    similarity_top_k=3, \n",
    "    sparse_top_k=8,\n",
    "    vector_store_query_mode=\"hybrid\",\n",
    "    node_postprocessors=[sim_postprocessor],\n",
    "    )\n",
    "\n",
    "chat_engine = CondenseQuestionChatEngine.from_defaults(\n",
    "    query_engine=query_engine,\n",
    "    condense_question_prompt=custom_prompt,\n",
    "    chat_history=custom_chat_history,\n",
    "    verbose=True,\n",
    "    llm=llm,\n",
    ")\n",
    "\n"
   ]
  },
  {
   "cell_type": "code",
   "execution_count": 42,
   "id": "bd15468b",
   "metadata": {},
   "outputs": [],
   "source": [
    "chat_engine = CondenseQuestionChatEngine.from_defaults(\n",
    "    query_engine=query_engine,\n",
    "    condense_question_prompt=custom_prompt,\n",
    "    chat_history=custom_chat_history,\n",
    "    verbose=True,\n",
    "    llm=llm,\n",
    ")\n"
   ]
  },
  {
   "cell_type": "code",
   "execution_count": 43,
   "id": "d55c5293",
   "metadata": {},
   "outputs": [
    {
     "data": {
      "text/plain": [
       "[ChatMessage(role=<MessageRole.USER: 'user'>, additional_kwargs={}, blocks=[TextBlock(block_type='text', text='Chào bạn, tôi cần sự giúp đỡ của bạn về một vấn đề pháp lý, lĩnh vực hôn nhân gia đình.')]),\n",
       " ChatMessage(role=<MessageRole.ASSISTANT: 'assistant'>, additional_kwargs={}, blocks=[TextBlock(block_type='text', text='Được thôi! Tôi có thể giúp gì cho bạn?')])]"
      ]
     },
     "execution_count": 43,
     "metadata": {},
     "output_type": "execute_result"
    }
   ],
   "source": [
    "chat_engine.chat_history"
   ]
  },
  {
   "cell_type": "code",
   "execution_count": 44,
   "id": "06241f76",
   "metadata": {},
   "outputs": [
    {
     "name": "stdout",
     "output_type": "stream",
     "text": [
      "Querying with: Tôi và chồng không còn tình cảm và cả hai đều đồng ý ly hôn. Xin hãy hướng dẫn các bước cần chuẩn bị để tiến hành thủ tục ly hôn thuận tình.\n",
      "\n"
     ]
    },
    {
     "data": {
      "text/plain": [
       "'Chào bạn,\\n\\nVới mong muốn ly hôn thuận tình của bạn và chồng, tôi xin cung cấp một số thông tin và hướng dẫn để bạn chuẩn bị cho thủ tục này, dựa trên quy định của pháp luật hiện hành, cụ thể là Điều 55 của Luật Hôn nhân và Gia đình và Nghị quyết 01/2024/NQ-HĐTP hướng dẫn áp dụng một số quy định của pháp luật trong giải quyết vụ việc về hôn nhân và gia đình:\\n\\n**1. Điều kiện để Tòa án công nhận thuận tình ly hôn:**\\n\\n*   **Sự tự nguyện:** Cả hai vợ chồng đều thực sự tự nguyện ly hôn. Điều này thể hiện qua việc cả hai cùng ký vào đơn yêu cầu công nhận thuận tình ly hôn, thỏa thuận về việc nuôi con, chia tài sản hoặc một bên có đơn khởi kiện ly hôn, bên kia đồng ý ly hôn và các thỏa thuận liên quan.\\n*   **Thỏa thuận về con cái:** Đã có thỏa thuận về việc trông nom, nuôi dưỡng, chăm sóc, giáo dục con chưa thành niên hoặc con đã thành niên mất năng lực hành vi dân sự/không có khả năng lao động và không có tài sản để tự nuôi mình. Thỏa thuận này phải đảm bảo quyền lợi chính đáng của con.\\n*   **Thỏa thuận về tài sản:** Đã có thỏa thuận về việc chia tài sản chung của vợ chồng. Thỏa thuận này có thể bao gồm cả trường hợp vợ chồng không yêu cầu Tòa án giải quyết việc chia tài sản.\\n*   **Tính hợp pháp và đạo đức:** Các thỏa thuận về con cái và tài sản không được vi phạm điều cấm của luật, không trái đạo đức xã hội.\\n\\n**2. Các bước chuẩn bị:**\\n\\n*   **Lập đơn yêu cầu công nhận thuận tình ly hôn:** Bạn và chồng cần cùng nhau lập một đơn yêu cầu công nhận thuận tình ly hôn. Trong đơn cần nêu rõ thông tin cá nhân của cả hai, lý do ly hôn, và các thỏa thuận cụ thể về việc chia tài sản, việc trông nom, nuôi dưỡng, chăm sóc, giáo dục con (nếu có con chung).\\n*   **Chuẩn bị các giấy tờ cần thiết:**\\n    *   Giấy chứng nhận đăng ký kết hôn (bản chính).\\n    *   Sổ hộ khẩu, Chứng minh nhân dân/Căn cước công dân của vợ và chồng (bản sao có chứng thực).\\n    *   Giấy khai sinh của con (nếu có con chung, bản sao có chứng thực).\\n    *   Các giấy tờ chứng minh quyền sở hữu tài sản chung (nếu có thỏa thuận chia tài sản, bản sao có chứng thực).\\n    *   Các giấy tờ khác có liên quan (ví dụ: giấy khám bệnh chứng minh tình trạng mất năng lực hành vi dân sự của con đã thành niên).\\n*   **Nộp hồ sơ tại Tòa án:** Nộp hồ sơ tại Tòa án nhân dân cấp huyện nơi cư trú của vợ hoặc chồng (có thể thỏa thuận lựa chọn Tòa án).\\n*   **Tham gia các buổi hòa giải, tư vấn:** Tòa án sẽ tiến hành hòa giải để xem xét khả năng đoàn tụ của hai vợ chồng. Nếu hòa giải không thành, Tòa án sẽ tiến hành thủ tục công nhận thuận tình ly hôn nếu đáp ứng đủ các điều kiện.\\n\\n**Lưu ý quan trọng:**\\n\\n*   Việc thỏa thuận về con cái và tài sản cần được xem xét kỹ lưỡng để đảm bảo quyền lợi chính đáng của cả vợ, chồng và con cái.\\n*   Nếu có bất kỳ tranh chấp nào về tài sản hoặc con cái, Tòa án sẽ không công nhận thuận tình ly hôn mà phải giải quyết theo thủ tục ly hôn thông thường.\\n*   Bạn nên tìm kiếm sự tư vấn của luật sư để được hỗ trợ tốt nhất trong quá trình chuẩn bị hồ sơ và tham gia tố tụng tại Tòa án.\\n\\nHy vọng những thông tin trên hữu ích cho bạn. Chúc bạn giải quyết vấn đề một cách thuận lợi.\\n'"
      ]
     },
     "execution_count": 44,
     "metadata": {},
     "output_type": "execute_result"
    }
   ],
   "source": [
    "response = chat_engine.chat(\"Tôi và chồng không còn tình cảm, chúng tôi đồng thuận ly hôn, chỉ tôi các bước chuẩn bị để ly hôn\")\n",
    "response.response"
   ]
  },
  {
   "cell_type": "code",
   "execution_count": 45,
   "id": "f0a1e495",
   "metadata": {},
   "outputs": [
    {
     "data": {
      "text/plain": [
       "'Chào bạn,\\n\\nVới mong muốn ly hôn thuận tình của bạn và chồng, tôi xin cung cấp một số thông tin và hướng dẫn để bạn chuẩn bị cho thủ tục này, dựa trên quy định của pháp luật hiện hành, cụ thể là Điều 55 của Luật Hôn nhân và Gia đình và Nghị quyết 01/2024/NQ-HĐTP hướng dẫn áp dụng một số quy định của pháp luật trong giải quyết vụ việc về hôn nhân và gia đình:\\n\\n**1. Điều kiện để Tòa án công nhận thuận tình ly hôn:**\\n\\n*   **Sự tự nguyện:** Cả hai vợ chồng đều thực sự tự nguyện ly hôn. Điều này thể hiện qua việc cả hai cùng ký vào đơn yêu cầu công nhận thuận tình ly hôn, thỏa thuận về việc nuôi con, chia tài sản hoặc một bên có đơn khởi kiện ly hôn, bên kia đồng ý ly hôn và các thỏa thuận liên quan.\\n*   **Thỏa thuận về con cái:** Đã có thỏa thuận về việc trông nom, nuôi dưỡng, chăm sóc, giáo dục con chưa thành niên hoặc con đã thành niên mất năng lực hành vi dân sự/không có khả năng lao động và không có tài sản để tự nuôi mình. Thỏa thuận này phải đảm bảo quyền lợi chính đáng của con.\\n*   **Thỏa thuận về tài sản:** Đã có thỏa thuận về việc chia tài sản chung của vợ chồng. Thỏa thuận này có thể bao gồm cả trường hợp vợ chồng không yêu cầu Tòa án giải quyết việc chia tài sản.\\n*   **Tính hợp pháp và đạo đức:** Các thỏa thuận về con cái và tài sản không được vi phạm điều cấm của luật, không trái đạo đức xã hội.\\n\\n**2. Các bước chuẩn bị:**\\n\\n*   **Lập đơn yêu cầu công nhận thuận tình ly hôn:** Bạn và chồng cần cùng nhau lập một đơn yêu cầu công nhận thuận tình ly hôn. Trong đơn cần nêu rõ thông tin cá nhân của cả hai, lý do ly hôn, và các thỏa thuận cụ thể về việc chia tài sản, việc trông nom, nuôi dưỡng, chăm sóc, giáo dục con (nếu có con chung).\\n*   **Chuẩn bị các giấy tờ cần thiết:**\\n    *   Giấy chứng nhận đăng ký kết hôn (bản chính).\\n    *   Sổ hộ khẩu, Chứng minh nhân dân/Căn cước công dân của vợ và chồng (bản sao có chứng thực).\\n    *   Giấy khai sinh của con (nếu có con chung, bản sao có chứng thực).\\n    *   Các giấy tờ chứng minh quyền sở hữu tài sản chung (nếu có thỏa thuận chia tài sản, bản sao có chứng thực).\\n    *   Các giấy tờ khác có liên quan (ví dụ: giấy khám bệnh chứng minh tình trạng mất năng lực hành vi dân sự của con đã thành niên).\\n*   **Nộp hồ sơ tại Tòa án:** Nộp hồ sơ tại Tòa án nhân dân cấp huyện nơi cư trú của vợ hoặc chồng (có thể thỏa thuận lựa chọn Tòa án).\\n*   **Tham gia các buổi hòa giải, tư vấn:** Tòa án sẽ tiến hành hòa giải để xem xét khả năng đoàn tụ của hai vợ chồng. Nếu hòa giải không thành, Tòa án sẽ tiến hành thủ tục công nhận thuận tình ly hôn nếu đáp ứng đủ các điều kiện.\\n\\n**Lưu ý quan trọng:**\\n\\n*   Việc thỏa thuận về con cái và tài sản cần được xem xét kỹ lưỡng để đảm bảo quyền lợi chính đáng của cả vợ, chồng và con cái.\\n*   Nếu có bất kỳ tranh chấp nào về tài sản hoặc con cái, Tòa án sẽ không công nhận thuận tình ly hôn mà phải giải quyết theo thủ tục ly hôn thông thường.\\n*   Bạn nên tìm kiếm sự tư vấn của luật sư để được hỗ trợ tốt nhất trong quá trình chuẩn bị hồ sơ và tham gia tố tụng tại Tòa án.\\n\\nHy vọng những thông tin trên hữu ích cho bạn. Chúc bạn giải quyết vấn đề một cách thuận lợi.\\n'"
      ]
     },
     "execution_count": 45,
     "metadata": {},
     "output_type": "execute_result"
    }
   ],
   "source": [
    "response.response"
   ]
  },
  {
   "cell_type": "code",
   "execution_count": 46,
   "id": "623bdc2f",
   "metadata": {},
   "outputs": [
    {
     "name": "stdout",
     "output_type": "stream",
     "text": [
      "Querying with: Trong trường hợp tôi và chồng đã đồng thuận ly hôn và đã được tư vấn về các bước chuẩn bị hồ sơ, vậy bước đầu tiên tôi nên thực hiện là gì để tiến hành thủ tục ly hôn thuận tình?\n",
      "\n",
      "Chào bạn,\n",
      "\n",
      "Dựa trên thông tin bạn cung cấp, tôi hiểu rằng bạn và chồng đã đồng thuận ly hôn và muốn biết bước đầu tiên cần thực hiện để tiến hành thủ tục ly hôn thuận tình.\n",
      "\n",
      "Tuy nhiên, rất tiếc là với thông tin pháp luật hiện có, tôi chưa thể cung cấp thông tin cụ thể về các bước chuẩn bị hồ sơ ly hôn thuận tình. Để được tư vấn chi tiết và chính xác nhất, bạn nên liên hệ trực tiếp với luật sư hoặc văn phòng luật sư chuyên về lĩnh vực hôn nhân và gia đình. Họ sẽ giúp bạn chuẩn bị đầy đủ hồ sơ và thực hiện các thủ tục pháp lý cần thiết.\n"
     ]
    }
   ],
   "source": [
    "response_stream = chat_engine.stream_chat(\"Vậy bây giờ tôi nên làm gì đầu tiên\")\n",
    "response_stream.print_response_stream()"
   ]
  },
  {
   "cell_type": "code",
   "execution_count": 48,
   "id": "d482607f",
   "metadata": {},
   "outputs": [
    {
     "name": "stdout",
     "output_type": "stream",
     "text": [
      "===== Entering Chat REPL =====\n",
      "Type \"exit\" to exit.\n",
      "\n"
     ]
    }
   ],
   "source": [
    "# # NOTE: Truy câp lịch sử hội thoại\n",
    "# chat_engine.chat_history\n",
    "# # Reset lich sử hội thoại\n",
    "\n",
    "# # Tạo REPL cho chatbot\n",
    "# chat_engine.chat_repl()\n"
   ]
  },
  {
   "cell_type": "code",
   "execution_count": 49,
   "id": "90240d31",
   "metadata": {},
   "outputs": [
    {
     "data": {
      "text/plain": [
       "[]"
      ]
     },
     "execution_count": 49,
     "metadata": {},
     "output_type": "execute_result"
    }
   ],
   "source": [
    "chat_engine.chat_history"
   ]
  },
  {
   "cell_type": "markdown",
   "id": "e2df1f8f",
   "metadata": {},
   "source": [
    "## Enhance Retrieval "
   ]
  },
  {
   "cell_type": "markdown",
   "id": "806b2971",
   "metadata": {},
   "source": [
    "### Nodes PostProcessor\n",
    "- Cohere Rerank\n",
    "- LLM Rerank\n",
    "- SimilarityPostprocessor"
   ]
  },
  {
   "cell_type": "markdown",
   "id": "90f652a6",
   "metadata": {},
   "source": [
    "Cohere - Tệ v"
   ]
  },
  {
   "cell_type": "code",
   "execution_count": null,
   "id": "d89af809",
   "metadata": {},
   "outputs": [],
   "source": [
    "# %pip install llama-index-postprocessor-cohere-rerank "
   ]
  },
  {
   "cell_type": "code",
   "execution_count": null,
   "id": "1fd1fd8c",
   "metadata": {},
   "outputs": [],
   "source": [
    "# from llama_index.core.postprocessor import SimilarityPostprocessor\n",
    "# from llama_index.postprocessor.cohere_rerank import CohereRerank\n",
    "# load_dotenv()\n",
    "\n",
    "# api_key = os.environ[\"COHERE_API_KEY\"]\n",
    "# cohere_rerank = CohereRerank(api_key=api_key, top_n=2)\n",
    "\n",
    "# query_engine_with_coh = loaded_index.as_query_engine(\n",
    "#     similarity_top_k=6,\n",
    "#     sparse_top_k=10,\n",
    "#     vector_store_query_mode=\"hybrid\",\n",
    "#     llm=llm,\n",
    "#     text_qa_template=qa_prompt_tmpl,\n",
    "#     node_postprocessors=[cohere_rerank],\n",
    "# )\n",
    "\n"
   ]
  },
  {
   "cell_type": "markdown",
   "id": "7d4a3d54",
   "metadata": {},
   "source": [
    "Similarity Processor - Ổn , để cutoff 0.3 hay 0.4 cũng dc"
   ]
  },
  {
   "cell_type": "code",
   "execution_count": null,
   "id": "34be4be8",
   "metadata": {},
   "outputs": [],
   "source": [
    "# from llama_index.core.postprocessor import SimilarityPostprocessor\n",
    "# postprocessor = SimilarityPostprocessor(similarity_cutoff=0.51)\n",
    "# query_engine_with_sim = loaded_index.as_query_engine(\n",
    "#     similarity_top_k=2,\n",
    "#     sparse_top_k=10,\n",
    "#     vector_store_query_mode=\"hybrid\",\n",
    "#     llm=llm,\n",
    "#     text_qa_template=qa_prompt_tmpl,\n",
    "#     node_postprocessors=[postprocessor],\n",
    "# )\n"
   ]
  },
  {
   "cell_type": "code",
   "execution_count": null,
   "id": "74cd8a2c",
   "metadata": {},
   "outputs": [],
   "source": [
    "# response = query_engine_with_sim.query(\n",
    "#     \"Chồng tôi có hành vi bạo lực gia đình, tôi muốn ly hôn và được nuôi con. Tôi có thể làm gì?\",\n",
    "# )\n",
    "# from llama_index.core.response.pprint_utils import pprint_response\n",
    "# pprint_response(response, show_source=True)"
   ]
  }
 ],
 "metadata": {
  "kernelspec": {
   "display_name": "RAG",
   "language": "python",
   "name": "python3"
  },
  "language_info": {
   "codemirror_mode": {
    "name": "ipython",
    "version": 3
   },
   "file_extension": ".py",
   "mimetype": "text/x-python",
   "name": "python",
   "nbconvert_exporter": "python",
   "pygments_lexer": "ipython3",
   "version": "3.12.10"
  }
 },
 "nbformat": 4,
 "nbformat_minor": 5
}
