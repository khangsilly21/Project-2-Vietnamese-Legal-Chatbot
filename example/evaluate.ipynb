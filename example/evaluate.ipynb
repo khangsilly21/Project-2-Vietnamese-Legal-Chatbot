{
 "cells": [
  {
   "cell_type": "code",
   "execution_count": 1,
   "metadata": {},
   "outputs": [
    {
     "name": "stderr",
     "output_type": "stream",
     "text": [
      "c:\\Users\\khang\\anaconda3\\envs\\RAG\\Lib\\site-packages\\tqdm\\auto.py:21: TqdmWarning: IProgress not found. Please update jupyter and ipywidgets. See https://ipywidgets.readthedocs.io/en/stable/user_install.html\n",
      "  from .autonotebook import tqdm as notebook_tqdm\n"
     ]
    }
   ],
   "source": [
    "import pandas as pd\n",
    "import random\n",
    "from llama_index.core.prompts import PromptTemplate\n",
    "from resourses import *\n",
    "import nest_asyncio\n",
    "from tqdm.asyncio import tqdm_asyncio\n",
    "\n",
    "nest_asyncio.apply()"
   ]
  },
  {
   "cell_type": "code",
   "execution_count": 25,
   "metadata": {},
   "outputs": [],
   "source": [
    "def displayify_df(df):\n",
    "    \"\"\"For pretty displaying DataFrame in a notebook.\"\"\"\n",
    "    display_df = df.style.set_properties(\n",
    "        **{\n",
    "            \"inline-size\": \"300px\",\n",
    "            \"overflow-wrap\": \"break-word\",\n",
    "        }\n",
    "    )\n",
    "    display(display_df)"
   ]
  },
  {
   "cell_type": "markdown",
   "metadata": {},
   "source": [
    "# Evaluate RAG "
   ]
  },
  {
   "cell_type": "markdown",
   "metadata": {},
   "source": [
    "## 1. Load data"
   ]
  },
  {
   "cell_type": "code",
   "execution_count": 27,
   "metadata": {},
   "outputs": [
    {
     "name": "stdout",
     "output_type": "stream",
     "text": [
      "100\n"
     ]
    },
    {
     "data": {
      "text/plain": [
       "['Chồng đánh vợ nhập viện thì người vợ có quyền yêu cầu ly hôn không?',\n",
       " 'Phơi lúa trên đường bộ bị phạt bao nhiêu tiền?',\n",
       " 'Chồng chết thì quan hệ hôn nhân có chấm dứt không? ']"
      ]
     },
     "execution_count": 27,
     "metadata": {},
     "output_type": "execute_result"
    }
   ],
   "source": [
    "df = pd.read_csv(\"qna_dataset\")\n",
    "#random.seed(42)\n",
    "random.seed(1)\n",
    "test_queries = random.sample(list(df[\"question\"]), 100)\n",
    "print(len(test_queries))\n",
    "test_queries[:3]"
   ]
  },
  {
   "cell_type": "markdown",
   "metadata": {},
   "source": [
    "### Get answer from llm"
   ]
  },
  {
   "cell_type": "code",
   "execution_count": 24,
   "metadata": {},
   "outputs": [],
   "source": [
    "#  baseline model\n",
    "llm = get_llm(local=False)\n",
    "# rag model\n",
    "query_engine = get_query_engine(llm=llm)"
   ]
  },
  {
   "cell_type": "code",
   "execution_count": null,
   "metadata": {},
   "outputs": [],
   "source": [
    "# Lay 10 cai 1 luc \n",
    "baseline_answer = []\n",
    "rag_answer = []\n",
    "for query in test_queries:\n",
    "    baseline_answer.append(llm.complete(query))\n",
    "    rag_answer.append(query_engine.query(query))\n"
   ]
  },
  {
   "cell_type": "code",
   "execution_count": 31,
   "metadata": {},
   "outputs": [],
   "source": [
    "len(baseline_answer), len(rag_answer)\n",
    "eval_df = pd.DataFrame({\"query\": test_queries, \"baseline_answer\": baseline_answer, \"rag_answer\": rag_answer})\n",
    "eval_df.to_csv(\"gemini_eval_df_100.csv\", index=False)\n"
   ]
  },
  {
   "cell_type": "markdown",
   "metadata": {},
   "source": [
    "## Answer Relevant Score"
   ]
  },
  {
   "cell_type": "markdown",
   "metadata": {},
   "source": [
    "### Load Dataset"
   ]
  },
  {
   "cell_type": "markdown",
   "metadata": {},
   "source": [
    "Evaluates the relevancy of response to a query. This evaluator considers the query string and response string.\n"
   ]
  },
  {
   "cell_type": "code",
   "execution_count": 7,
   "metadata": {},
   "outputs": [],
   "source": [
    "import pandas as pd\n",
    "eval_df = pd.read_csv(\"eval_df_100.csv\")\n",
    "\n",
    "queries = eval_df[\"query\"].tolist()\n",
    "baseline_answers = eval_df[\"baseline_answer\"].tolist()\n",
    "rag_answers = eval_df[\"rag_answer\"].tolist()"
   ]
  },
  {
   "cell_type": "code",
   "execution_count": 4,
   "metadata": {},
   "outputs": [
    {
     "data": {
      "text/html": [
       "<div>\n",
       "<style scoped>\n",
       "    .dataframe tbody tr th:only-of-type {\n",
       "        vertical-align: middle;\n",
       "    }\n",
       "\n",
       "    .dataframe tbody tr th {\n",
       "        vertical-align: top;\n",
       "    }\n",
       "\n",
       "    .dataframe thead th {\n",
       "        text-align: right;\n",
       "    }\n",
       "</style>\n",
       "<table border=\"1\" class=\"dataframe\">\n",
       "  <thead>\n",
       "    <tr style=\"text-align: right;\">\n",
       "      <th></th>\n",
       "      <th>query</th>\n",
       "      <th>baseline_answer</th>\n",
       "      <th>rag_answer</th>\n",
       "    </tr>\n",
       "  </thead>\n",
       "  <tbody>\n",
       "    <tr>\n",
       "      <th>0</th>\n",
       "      <td>Xin hỏi nếu vợ bị tâm thần thì khi bán mảnh đấ...</td>\n",
       "      <td>Tất nhiên, tôi sẽ giúp bạn giải đáp các vấn đề...</td>\n",
       "      <td>Dựa trên thông tin bạn cung cấp, tôi xin trả l...</td>\n",
       "    </tr>\n",
       "    <tr>\n",
       "      <th>1</th>\n",
       "      <td>Cho tôi hỏi thời kỳ kết hôn được hiểu như thế ...</td>\n",
       "      <td>Thời kỳ kết hôn là một khoảng thời gian trong ...</td>\n",
       "      <td>Thời kỳ kết hôn được hiểu là từ ngày khi vợ ho...</td>\n",
       "    </tr>\n",
       "    <tr>\n",
       "      <th>2</th>\n",
       "      <td>Xe ô tô bị mất trộm có phải đóng phí sử dụng đ...</td>\n",
       "      <td>Xin lỗi vì sự nhầm lẫn nhưng tôi không thể cun...</td>\n",
       "      <td>Xin lỗi, nhưng tôi cần hiểu rõ hơn về câu hỏi ...</td>\n",
       "    </tr>\n",
       "    <tr>\n",
       "      <th>3</th>\n",
       "      <td>Nhiệm vụ của tiếp viên hàng không được quy địn...</td>\n",
       "      <td>Tôi xin lỗi, tôi không có khả năng phân tích h...</td>\n",
       "      <td>Xin lỗi, tôi không thể hỗ trợ người dùng câu h...</td>\n",
       "    </tr>\n",
       "    <tr>\n",
       "      <th>4</th>\n",
       "      <td>Cơ quan nào có thẩm quyền cấp giấy phép lái xe?</td>\n",
       "      <td>Lý do của việc cấp Giấy chứng nhận lái xe phải...</td>\n",
       "      <td>Lý do cơ sở pháp lý được đề cập trong văn bản:...</td>\n",
       "    </tr>\n",
       "  </tbody>\n",
       "</table>\n",
       "</div>"
      ],
      "text/plain": [
       "                                               query  \\\n",
       "0  Xin hỏi nếu vợ bị tâm thần thì khi bán mảnh đấ...   \n",
       "1  Cho tôi hỏi thời kỳ kết hôn được hiểu như thế ...   \n",
       "2  Xe ô tô bị mất trộm có phải đóng phí sử dụng đ...   \n",
       "3  Nhiệm vụ của tiếp viên hàng không được quy địn...   \n",
       "4    Cơ quan nào có thẩm quyền cấp giấy phép lái xe?   \n",
       "\n",
       "                                     baseline_answer  \\\n",
       "0  Tất nhiên, tôi sẽ giúp bạn giải đáp các vấn đề...   \n",
       "1  Thời kỳ kết hôn là một khoảng thời gian trong ...   \n",
       "2  Xin lỗi vì sự nhầm lẫn nhưng tôi không thể cun...   \n",
       "3  Tôi xin lỗi, tôi không có khả năng phân tích h...   \n",
       "4  Lý do của việc cấp Giấy chứng nhận lái xe phải...   \n",
       "\n",
       "                                          rag_answer  \n",
       "0  Dựa trên thông tin bạn cung cấp, tôi xin trả l...  \n",
       "1  Thời kỳ kết hôn được hiểu là từ ngày khi vợ ho...  \n",
       "2  Xin lỗi, nhưng tôi cần hiểu rõ hơn về câu hỏi ...  \n",
       "3  Xin lỗi, tôi không thể hỗ trợ người dùng câu h...  \n",
       "4  Lý do cơ sở pháp lý được đề cập trong văn bản:...  "
      ]
     },
     "execution_count": 4,
     "metadata": {},
     "output_type": "execute_result"
    }
   ],
   "source": [
    "eval_df.head()"
   ]
  },
  {
   "cell_type": "markdown",
   "metadata": {},
   "source": [
    "### Evaluate"
   ]
  },
  {
   "cell_type": "code",
   "execution_count": 8,
   "metadata": {},
   "outputs": [],
   "source": [
    "from llama_index.core.prompts import ChatPromptTemplate, ChatMessage, MessageRole\n",
    "DEFAULT_SYSTEM_TEMPLATE_VI = \"\"\"\n",
    "Bạn là một hệ thống đánh giá chuyên nghiệp cho một chatbot trả lời câu hỏi.\n",
    "\n",
    "Bạn sẽ được cung cấp các thông tin sau:\n",
    "- một câu hỏi từ người dùng, và\n",
    "- một câu trả lời do hệ thống tạo ra\n",
    "\n",
    "Bạn cũng có thể được cung cấp một câu trả lời tham khảo để so sánh trong quá trình đánh giá.\n",
    "\n",
    "Nhiệm vụ của bạn là đánh giá mức độ liên quan và tính chính xác của câu trả lời do hệ thống tạo ra.\n",
    "Kết quả của bạn phải bao gồm chính xác 2 dòng.\n",
    "Dòng 1 là số điểm bạn chấm.\n",
    "Dòng 2 là lý do ngắn gọn bạn chấm điểm.\n",
    "\n",
    "Hãy tuân thủ các nguyên tắc sau khi chấm điểm:\n",
    "- Điểm số phải nằm trong khoảng từ 1 đến 5, trong đó 1 là tệ nhất và 5 là tốt nhất.\n",
    "- Nếu câu trả lời không liên quan đến câu hỏi, hãy cho điểm **1**.\n",
    "- Nếu câu trả lời có liên quan nhưng có lỗi sai, hãy cho điểm **từ 2 đến 3**.\n",
    "- Nếu câu trả lời vừa liên quan vừa chính xác, hãy cho điểm **từ 4 đến 5**.\n",
    "\n",
    "### Ví dụ phản hồi:\n",
    "4.0  \n",
    "Câu trả lời do hệ thống tạo ra có cùng thông tin với câu trả lời tham khảo, nhưng chưa súc tích bằng.\n",
    "\"\"\"\n",
    "\n",
    "DEFAULT_USER_TEMPLATE_VI = \"\"\"\n",
    "## Câu hỏi của người dùng\n",
    "{query}\n",
    "\n",
    "## Câu trả lời tham khảo\n",
    "{reference_answer}\n",
    "\n",
    "## Câu trả lời do hệ thống tạo ra\n",
    "{generated_answer}\n",
    "\"\"\"\n",
    "\n",
    "DEFAULT_EVAL_TEMPLATE_VI = ChatPromptTemplate(\n",
    "    message_templates=[\n",
    "        ChatMessage(role=MessageRole.SYSTEM, content=DEFAULT_SYSTEM_TEMPLATE_VI),\n",
    "        ChatMessage(role=MessageRole.USER, content=DEFAULT_USER_TEMPLATE_VI),\n",
    "    ]\n",
    ")"
   ]
  },
  {
   "cell_type": "code",
   "execution_count": 9,
   "metadata": {},
   "outputs": [],
   "source": [
    "from llama_index.core.evaluation import CorrectnessEvaluator\n",
    "\n",
    "llm = get_llm(local=False)\n",
    "query_engine = get_query_engine(llm=llm)\n",
    "\n",
    "evaluator = CorrectnessEvaluator(\n",
    "    llm=llm,\n",
    "    eval_template=DEFAULT_EVAL_TEMPLATE_VI,\n",
    ")"
   ]
  },
  {
   "cell_type": "markdown",
   "metadata": {},
   "source": [
    "EXAMPLE"
   ]
  },
  {
   "cell_type": "code",
   "execution_count": 8,
   "metadata": {},
   "outputs": [],
   "source": [
    "# sample_query = queries[1]\n",
    "# response = baseline_answers[1]\n",
    "# eval_result = evaluator.evaluate(query=sample_query, response=response)\n",
    "# eval_result.score, eval_result.feedback"
   ]
  },
  {
   "cell_type": "code",
   "execution_count": 22,
   "metadata": {},
   "outputs": [],
   "source": [
    "def evaluate_correctness(queries, answers):\n",
    "    total_score = 0\n",
    "    total_pass = 0\n",
    "    num_invalid = 0\n",
    "    evaluator = CorrectnessEvaluator(\n",
    "        llm=llm,\n",
    "        eval_template=DEFAULT_EVAL_TEMPLATE_VI,\n",
    "    )\n",
    "    for query, answer in zip(queries, answers):\n",
    "        try:\n",
    "            eval_result = evaluator.evaluate(query=query, response=answer)\n",
    "            print(query, answer)\n",
    "            print(eval_result.score, eval_result.passing, eval_result.feedback)\n",
    "            if isinstance(eval_result.score, float):\n",
    "                total_score += eval_result.score\n",
    "            if isinstance(eval_result.passing, bool) and eval_result.passing:\n",
    "                total_pass += 1\n",
    "        except Exception as e:\n",
    "            print(e)\n",
    "            num_invalid += 1\n",
    "    return total_score, total_pass , len(queries) - num_invalid\n",
    "\n"
   ]
  },
  {
   "cell_type": "code",
   "execution_count": 21,
   "metadata": {},
   "outputs": [
    {
     "data": {
      "text/plain": [
       "(['Xin hỏi nếu vợ bị tâm thần thì khi bán mảnh đất thì tôi có cần chữ kí của vợ không? Thủ tục chuyển nhượng được thực hiện như thế nào?',\n",
       "  'Cho tôi hỏi thời kỳ kết hôn được hiểu như thế nào?'],\n",
       " ['Tất nhiên, tôi sẽ giúp bạn giải đáp các vấn đề này:\\n\\n1. Trả cho vợ: Nếu bạn muốn giao đất cho vợ, chỉ cần ký tên vào bản hợp đồng hoặc giấy chứng nhận. Điều quan trọng là phải có sự minh bạch và chính xác về tình trạng tài sản của bạn.\\n\\n2. Quyết toán: Để thực hiện chuyển nhượng quyền lợi, bạn cần phải có số liệu chi tiết về tiền thuế và tiền thuê đất. Trong trường hợp vợ bị tâm thần, bạn nên kiểm tra các thông tin này để đảm bảo rằng mọi thứ đúng đắn.\\n\\n3. Thủ tục chuyển nhượng: Tuy nhiên, tôi khuyên bạn nên咨询 một luật gia hoặc người quản lý tài sản để nắm bắt chính xác điều kiện mới nhất và đầy đủ.\\n\\nVì vậy, nếu bạn muốn giao đất cho vợ, chỉ cần ký tên vào bản hợp đồng hoặc giấy chứng nhận. Nếu bạn có bất kỳ thắc mắc nào khác, hãy tiếp tục liên hệ với tôi để được giải thích chi tiết hơn nhé!',\n",
       "  'Thời kỳ kết hôn là một khoảng thời gian trong cuộc sống vợ chồng và tình cảm mà cả hai người đều đồng ý để xây dựng và duy trì quan hệ hạnh phúc, an toàn và hiệu quả. Dưới đây là những thông tin chi tiết về thời kỳ kết hôn:\\n\\n1. Dữ liệu thống kê: Theo thống kê từ các chuyên gia và dữ liệu chính thức, trong khoảng thời gian từ 1 đến 3 năm đầu tiên sau khi kết hôn, gần nhất 90% cặp vợ chồng đều chọn được tình yêu và hạnh phúc.\\n\\n2. Thời gian điều chỉnh: Nhiều cặp đôi kết hôn thường bắt đầu với một thời kỳ ngắn nhất, từ 6-12 tháng đầu sau khi kết hôn.\\n\\n3. Thanh lý tình cảm: Thời kỳ kết hôn không phải lúc nào cũng ổn định, thường có những thay đổi về suy nghĩ, hành động và nhận thức cá nhân. Tuy nhiên, khoảng thời gian này nên được đánh giá là một thời điểm rất quan trọng để xây dựng mối quan hệ bền vững.\\n\\n4. Rút ra thông tin thực tế: Nhiều cặp đôi kết hôn lại sau khoảng 3 năm, nhưng có thể không phải lúc nào cũng như vậy. Dưới đây là một số nguyên tắc mà nhiều người khuyên nên chú ý khi lựa chọn thời kỳ kết hôn:\\n\\n   a) Chọn thời điểm thích hợp: Dù bạn muốn kết hôn sớm hay trễ, hãy kiểm tra liệu điều kiện xã hội và tài chính của mình phù hợp với mục tiêu đó.\\n\\n   b) Thanh lý quan hệ: Nếu bạn cảm thấy có thể rời bỏ tình yêu bạn đã建立了, bạn nên cân nhắc kỹ lưỡng để tránh việc mất đi hạnh phúc gia đình bạn.\\n\\n   c) Tự nhận biết: Hãy cố gắng tự nhận xét về bản thân và mục tiêu của mình. Điều này sẽ giúp bạn xây dựng một quan hệ tốt hơn với người bạn bạn kết hôn.\\n\\n5. Rút ra thông tin dựa trên thực tế: Nên phân tích những điều kiện ngoại tiếp, sự cân nhắc và tham khảo ý kiến của các chuyên gia trước khi đưa ra quyết định chính xác.'])"
      ]
     },
     "execution_count": 21,
     "metadata": {},
     "output_type": "execute_result"
    }
   ],
   "source": [
    "queries[:2], baseline_answers[:2]"
   ]
  },
  {
   "cell_type": "code",
   "execution_count": 23,
   "metadata": {},
   "outputs": [
    {
     "name": "stdout",
     "output_type": "stream",
     "text": [
      "Xin hỏi nếu vợ bị tâm thần thì khi bán mảnh đất thì tôi có cần chữ kí của vợ không? Thủ tục chuyển nhượng được thực hiện như thế nào? Tất nhiên, tôi sẽ giúp bạn giải đáp các vấn đề này:\n",
      "\n",
      "1. Trả cho vợ: Nếu bạn muốn giao đất cho vợ, chỉ cần ký tên vào bản hợp đồng hoặc giấy chứng nhận. Điều quan trọng là phải có sự minh bạch và chính xác về tình trạng tài sản của bạn.\n",
      "\n",
      "2. Quyết toán: Để thực hiện chuyển nhượng quyền lợi, bạn cần phải có số liệu chi tiết về tiền thuế và tiền thuê đất. Trong trường hợp vợ bị tâm thần, bạn nên kiểm tra các thông tin này để đảm bảo rằng mọi thứ đúng đắn.\n",
      "\n",
      "3. Thủ tục chuyển nhượng: Tuy nhiên, tôi khuyên bạn nên咨询 một luật gia hoặc người quản lý tài sản để nắm bắt chính xác điều kiện mới nhất và đầy đủ.\n",
      "\n",
      "Vì vậy, nếu bạn muốn giao đất cho vợ, chỉ cần ký tên vào bản hợp đồng hoặc giấy chứng nhận. Nếu bạn có bất kỳ thắc mắc nào khác, hãy tiếp tục liên hệ với tôi để được giải thích chi tiết hơn nhé!\n",
      "1.0 False Câu trả lời hoàn toàn không liên quan đến câu hỏi.\n",
      "\n",
      "Cho tôi hỏi thời kỳ kết hôn được hiểu như thế nào? Thời kỳ kết hôn là một khoảng thời gian trong cuộc sống vợ chồng và tình cảm mà cả hai người đều đồng ý để xây dựng và duy trì quan hệ hạnh phúc, an toàn và hiệu quả. Dưới đây là những thông tin chi tiết về thời kỳ kết hôn:\n",
      "\n",
      "1. Dữ liệu thống kê: Theo thống kê từ các chuyên gia và dữ liệu chính thức, trong khoảng thời gian từ 1 đến 3 năm đầu tiên sau khi kết hôn, gần nhất 90% cặp vợ chồng đều chọn được tình yêu và hạnh phúc.\n",
      "\n",
      "2. Thời gian điều chỉnh: Nhiều cặp đôi kết hôn thường bắt đầu với một thời kỳ ngắn nhất, từ 6-12 tháng đầu sau khi kết hôn.\n",
      "\n",
      "3. Thanh lý tình cảm: Thời kỳ kết hôn không phải lúc nào cũng ổn định, thường có những thay đổi về suy nghĩ, hành động và nhận thức cá nhân. Tuy nhiên, khoảng thời gian này nên được đánh giá là một thời điểm rất quan trọng để xây dựng mối quan hệ bền vững.\n",
      "\n",
      "4. Rút ra thông tin thực tế: Nhiều cặp đôi kết hôn lại sau khoảng 3 năm, nhưng có thể không phải lúc nào cũng như vậy. Dưới đây là một số nguyên tắc mà nhiều người khuyên nên chú ý khi lựa chọn thời kỳ kết hôn:\n",
      "\n",
      "   a) Chọn thời điểm thích hợp: Dù bạn muốn kết hôn sớm hay trễ, hãy kiểm tra liệu điều kiện xã hội và tài chính của mình phù hợp với mục tiêu đó.\n",
      "\n",
      "   b) Thanh lý quan hệ: Nếu bạn cảm thấy có thể rời bỏ tình yêu bạn đã建立了, bạn nên cân nhắc kỹ lưỡng để tránh việc mất đi hạnh phúc gia đình bạn.\n",
      "\n",
      "   c) Tự nhận biết: Hãy cố gắng tự nhận xét về bản thân và mục tiêu của mình. Điều này sẽ giúp bạn xây dựng một quan hệ tốt hơn với người bạn bạn kết hôn.\n",
      "\n",
      "5. Rút ra thông tin dựa trên thực tế: Nên phân tích những điều kiện ngoại tiếp, sự cân nhắc và tham khảo ý kiến của các chuyên gia trước khi đưa ra quyết định chính xác.\n",
      "2.0 False Câu trả lời không liên quan đến câu hỏi. Câu hỏi hỏi về định nghĩa của \"thời kỳ kết hôn\" nhưng câu trả lời lại nói về \"khoảng thời gian trong cuộc sống vợ chồng\".\n",
      "\n",
      "3.0 0 2\n"
     ]
    }
   ],
   "source": [
    "total_score, total_pass, valid = evaluate_correctness(queries[:2], baseline_answers[:2])\n",
    "print(total_score, total_pass, valid)\n"
   ]
  },
  {
   "cell_type": "markdown",
   "metadata": {},
   "source": [
    "- Lần 1: \n",
    "BASELINE: 100 câu - 266 điểm - 50 câu đạt\n",
    "RAG: 100 câu - 392 điểm - 76 câu đạt\n",
    "\n"
   ]
  }
 ],
 "metadata": {
  "kernelspec": {
   "display_name": "RAG",
   "language": "python",
   "name": "python3"
  },
  "language_info": {
   "codemirror_mode": {
    "name": "ipython",
    "version": 3
   },
   "file_extension": ".py",
   "mimetype": "text/x-python",
   "name": "python",
   "nbconvert_exporter": "python",
   "pygments_lexer": "ipython3",
   "version": "3.12.10"
  }
 },
 "nbformat": 4,
 "nbformat_minor": 2
}
