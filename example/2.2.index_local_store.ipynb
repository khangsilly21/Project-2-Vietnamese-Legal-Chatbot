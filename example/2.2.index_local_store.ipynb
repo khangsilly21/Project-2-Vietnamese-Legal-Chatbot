{
 "cells": [
  {
   "cell_type": "code",
   "execution_count": 3,
   "metadata": {},
   "outputs": [
    {
     "name": "stdout",
     "output_type": "stream",
     "text": [
      "Đã tải dữ liệu các chunks, số lượng:  3245\n"
     ]
    }
   ],
   "source": [
    "from datasets import load_dataset\n",
    "import uuid\n",
    "from llama_index.core.schema import TextNode\n",
    "nodes = []\n",
    "def _load_dataset(path=\"khanglt0004/vietnamese_legal_chunks\"):\n",
    "    dataset = load_dataset(path)\n",
    "    for item in dataset['train']:\n",
    "        new_node = TextNode(\n",
    "            text=item['text'],\n",
    "            id_=str(uuid.uuid5(uuid.NAMESPACE_DNS, str(item['id']))),\n",
    "            metadata=item['metadata']\n",
    "        )\n",
    "        nodes.append(new_node)\n",
    "    print(\"Đã tải dữ liệu các chunks, số lượng: \", len(nodes))\n",
    "_load_dataset()"
   ]
  },
  {
   "cell_type": "code",
   "execution_count": 5,
   "metadata": {},
   "outputs": [],
   "source": [
    "from llama_index.vector_stores.qdrant import QdrantVectorStore\n",
    "from llama_index.core.storage.storage_context import StorageContext\n",
    "from llama_index.core.indices.vector_store import VectorStoreIndex\n",
    "from llama_index.embeddings.huggingface import HuggingFaceEmbedding\n",
    "\n",
    "embed_model = HuggingFaceEmbedding(model_name=\"bkai-foundation-models/vietnamese-bi-encoder\")\n",
    "from qdrant_client import QdrantClient\n",
    "\n",
    "client = QdrantClient(url=\"http://localhost:6333\")\n",
    "vector_store = QdrantVectorStore(\n",
    "    client=client, \n",
    "    collection_name=\"local_law_documents\",\n",
    "    enable_hybrid=True,\n",
    "    fastembed_sparse_model=\"Qdrant/bm25\",\n",
    "    batch_size=20,\n",
    "    )\n",
    "\n",
    "storage_context = StorageContext.from_defaults(vector_store=vector_store)\n",
    "# NOTE: reate Vector Database in Qdrant\n",
    "index = VectorStoreIndex(\n",
    "    nodes,\n",
    "    storage_context=storage_context,\n",
    "    embed_model = embed_model,\n",
    ")\n",
    "\n",
    "loaded_index = VectorStoreIndex.from_vector_store(\n",
    "    vector_store,\n",
    "    embed_model= embed_model\n",
    ")"
   ]
  }
 ],
 "metadata": {
  "kernelspec": {
   "display_name": "RAG",
   "language": "python",
   "name": "python3"
  },
  "language_info": {
   "codemirror_mode": {
    "name": "ipython",
    "version": 3
   },
   "file_extension": ".py",
   "mimetype": "text/x-python",
   "name": "python",
   "nbconvert_exporter": "python",
   "pygments_lexer": "ipython3",
   "version": "3.12.10"
  }
 },
 "nbformat": 4,
 "nbformat_minor": 2
}
